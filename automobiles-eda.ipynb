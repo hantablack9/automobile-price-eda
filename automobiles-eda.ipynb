{
 "cells": [
  {
   "cell_type": "markdown",
   "id": "804e614b",
   "metadata": {
    "papermill": {
     "duration": 0.006023,
     "end_time": "2023-01-20T17:02:11.127427",
     "exception": false,
     "start_time": "2023-01-20T17:02:11.121404",
     "status": "completed"
    },
    "tags": []
   },
   "source": [
    "# A. Introduction\n",
    "\n",
    "We will go through the automobile dataset and perform EDA. We will draw insights using pandas, numpy, scipy and seaborn.\n",
    "\n",
    "We will make our observations. We will also make and accept or reject hypotheses as we go along.\n",
    "\n",
    "The preliminary goals of this analysis is to check which variables of the dataset can be used as good markers of pricing. The target end-users of this analysis are the Business Development heads who can use this to better position the product with respect to their competitor brands in the segment."
   ]
  },
  {
   "cell_type": "markdown",
   "id": "dee7f4e7",
   "metadata": {
    "papermill": {
     "duration": 0.004716,
     "end_time": "2023-01-20T17:02:11.137275",
     "exception": false,
     "start_time": "2023-01-20T17:02:11.132559",
     "status": "completed"
    },
    "tags": []
   },
   "source": [
    "# B. Installing packages and loading the dataset"
   ]
  },
  {
   "cell_type": "code",
   "execution_count": 1,
   "id": "6098e095",
   "metadata": {
    "_cell_guid": "b1076dfc-b9ad-4769-8c92-a6c4dae69d19",
    "_kg_hide-input": true,
    "_uuid": "8f2839f25d086af736a60e9eeb907d3b93b6e0e5",
    "execution": {
     "iopub.execute_input": "2023-01-20T17:02:11.149179Z",
     "iopub.status.busy": "2023-01-20T17:02:11.148468Z",
     "iopub.status.idle": "2023-01-20T17:02:45.101144Z",
     "shell.execute_reply": "2023-01-20T17:02:45.100237Z"
    },
    "papermill": {
     "duration": 33.961204,
     "end_time": "2023-01-20T17:02:45.103434",
     "exception": false,
     "start_time": "2023-01-20T17:02:11.142230",
     "status": "completed"
    },
    "tags": []
   },
   "outputs": [
    {
     "name": "stdout",
     "output_type": "stream",
     "text": [
      "Requirement already satisfied: pandas in /opt/conda/lib/python3.7/site-packages (1.3.5)\r\n",
      "Requirement already satisfied: python-dateutil>=2.7.3 in /opt/conda/lib/python3.7/site-packages (from pandas) (2.8.2)\r\n",
      "Requirement already satisfied: pytz>=2017.3 in /opt/conda/lib/python3.7/site-packages (from pandas) (2022.1)\r\n",
      "Requirement already satisfied: numpy>=1.17.3 in /opt/conda/lib/python3.7/site-packages (from pandas) (1.21.6)\r\n",
      "Requirement already satisfied: six>=1.5 in /opt/conda/lib/python3.7/site-packages (from python-dateutil>=2.7.3->pandas) (1.15.0)\r\n",
      "\u001b[33mWARNING: Running pip as the 'root' user can result in broken permissions and conflicting behaviour with the system package manager. It is recommended to use a virtual environment instead: https://pip.pypa.io/warnings/venv\u001b[0m\u001b[33m\r\n",
      "\u001b[0mRequirement already satisfied: numpy in /opt/conda/lib/python3.7/site-packages (1.21.6)\r\n",
      "\u001b[33mWARNING: Running pip as the 'root' user can result in broken permissions and conflicting behaviour with the system package manager. It is recommended to use a virtual environment instead: https://pip.pypa.io/warnings/venv\u001b[0m\u001b[33m\r\n",
      "\u001b[0mRequirement already satisfied: scipy in /opt/conda/lib/python3.7/site-packages (1.7.3)\r\n",
      "Requirement already satisfied: numpy<1.23.0,>=1.16.5 in /opt/conda/lib/python3.7/site-packages (from scipy) (1.21.6)\r\n",
      "\u001b[33mWARNING: Running pip as the 'root' user can result in broken permissions and conflicting behaviour with the system package manager. It is recommended to use a virtual environment instead: https://pip.pypa.io/warnings/venv\u001b[0m\u001b[33m\r\n",
      "\u001b[0mRequirement already satisfied: seaborn in /opt/conda/lib/python3.7/site-packages (0.11.2)\r\n",
      "Requirement already satisfied: matplotlib>=2.2 in /opt/conda/lib/python3.7/site-packages (from seaborn) (3.5.3)\r\n",
      "Requirement already satisfied: scipy>=1.0 in /opt/conda/lib/python3.7/site-packages (from seaborn) (1.7.3)\r\n",
      "Requirement already satisfied: numpy>=1.15 in /opt/conda/lib/python3.7/site-packages (from seaborn) (1.21.6)\r\n",
      "Requirement already satisfied: pandas>=0.23 in /opt/conda/lib/python3.7/site-packages (from seaborn) (1.3.5)\r\n",
      "Requirement already satisfied: python-dateutil>=2.7 in /opt/conda/lib/python3.7/site-packages (from matplotlib>=2.2->seaborn) (2.8.2)\r\n",
      "Requirement already satisfied: fonttools>=4.22.0 in /opt/conda/lib/python3.7/site-packages (from matplotlib>=2.2->seaborn) (4.33.3)\r\n",
      "Requirement already satisfied: kiwisolver>=1.0.1 in /opt/conda/lib/python3.7/site-packages (from matplotlib>=2.2->seaborn) (1.4.3)\r\n",
      "Requirement already satisfied: cycler>=0.10 in /opt/conda/lib/python3.7/site-packages (from matplotlib>=2.2->seaborn) (0.11.0)\r\n",
      "Requirement already satisfied: pyparsing>=2.2.1 in /opt/conda/lib/python3.7/site-packages (from matplotlib>=2.2->seaborn) (3.0.9)\r\n",
      "Requirement already satisfied: packaging>=20.0 in /opt/conda/lib/python3.7/site-packages (from matplotlib>=2.2->seaborn) (22.0)\r\n",
      "Requirement already satisfied: pillow>=6.2.0 in /opt/conda/lib/python3.7/site-packages (from matplotlib>=2.2->seaborn) (9.1.1)\r\n",
      "Requirement already satisfied: pytz>=2017.3 in /opt/conda/lib/python3.7/site-packages (from pandas>=0.23->seaborn) (2022.1)\r\n",
      "Requirement already satisfied: typing-extensions in /opt/conda/lib/python3.7/site-packages (from kiwisolver>=1.0.1->matplotlib>=2.2->seaborn) (4.1.1)\r\n",
      "Requirement already satisfied: six>=1.5 in /opt/conda/lib/python3.7/site-packages (from python-dateutil>=2.7->matplotlib>=2.2->seaborn) (1.15.0)\r\n",
      "\u001b[33mWARNING: Running pip as the 'root' user can result in broken permissions and conflicting behaviour with the system package manager. It is recommended to use a virtual environment instead: https://pip.pypa.io/warnings/venv\u001b[0m\u001b[33m\r\n",
      "\u001b[0m"
     ]
    }
   ],
   "source": [
    "#install specific version of libraries used in lab\n",
    "!pip install pandas\n",
    "!pip install numpy\n",
    "!pip install scipy\n",
    "!pip install seaborn\n",
    "\n",
    "import os\n",
    "for dirname, _, filenames in os.walk('/kaggle/input/testdataset/automobile.csv'):\n",
    "    for filename in filenames:\n",
    "        print(os.path.join(dirname, filename))\n",
    "        \n",
    "import pandas as pd\n",
    "import numpy as np\n",
    "import matplotlib.pyplot as plt\n",
    "import seaborn as sns\n",
    "%matplotlib inline"
   ]
  },
  {
   "cell_type": "markdown",
   "id": "5bd9c3d3",
   "metadata": {
    "papermill": {
     "duration": 0.005392,
     "end_time": "2023-01-20T17:02:45.114609",
     "exception": false,
     "start_time": "2023-01-20T17:02:45.109217",
     "status": "completed"
    },
    "tags": []
   },
   "source": [
    "# C. Now we explore the data\n",
    "\n",
    "### Steps:\n",
    "\n",
    "#### 1. We will use pandas dataframes and numpy to manipulate data into a suitable form.\n",
    "\n",
    "#### 2. We'll see if theres any variable-price pairs with a high Pearson correlation coefficient using the scipy package.\n",
    "\n",
    "#### 3. We will later perform a p-value check for the previously obtained correlation values (which measures repeatability of the correlation coefficients). \n",
    "**Intuition:** If we say, the p-value of the hypothesis (in this instance, the coorelation measure) is 0.05, it means the following. When we repeat an experiment with various samples of the same groups, on an average, we should get get the sample correlation values which are close or equal to the population correlation 95% of the time and only 5% of the time, drastically different. In other words, if we perform this experiment for a number of samples, how likely are we to get a result that's closer to the average?\n",
    "Its a statistical measure of the chance or luck factor which may produce a favorable result to the initial hypothesis thats alternate to the null hypothsis.Check [here](https://www.youtube.com/watch?v=vemZtEM63GY) and [here](https://youtu.be/4XfTpkGe1Kc) for more info.\n",
    "\n",
    "* **Caveat**: Low-p-values for *false positives* are possible. This is why we need **repeatability** in experiments to see if our variable (for eg, a newly invented drug or engine-location) proves to be statistically significant enough to be declared as influential.\n",
    "\n",
    "#### 4. We will see how to group data-points using our varuiables. This will enable us to perform one-way ANOVA tests.\n",
    "\n",
    "#### 5. Perform a one-way ANOVA test between various groups of the same variable \n",
    " \n",
    " This will help us extract those variables for checking the statistical significance of such a correlation.\n",
    "\n",
    "We'll use ```df.corr()``` to identify these variable pairs.\n",
    "\n",
    "#### 6. Inferences and conclusions\n",
    "\n",
    "We will see which variables are good price markers and be in a position to provide insights to the Business Development teams.\n",
    "\n"
   ]
  },
  {
   "cell_type": "markdown",
   "id": "371eb0f7",
   "metadata": {
    "papermill": {
     "duration": 0.005836,
     "end_time": "2023-01-20T17:02:45.125979",
     "exception": false,
     "start_time": "2023-01-20T17:02:45.120143",
     "status": "completed"
    },
    "tags": []
   },
   "source": [
    "# C.1. We will use pandas dataframes to manipulate data into a suitable form"
   ]
  },
  {
   "cell_type": "markdown",
   "id": "35bc09d3",
   "metadata": {
    "papermill": {
     "duration": 0.005362,
     "end_time": "2023-01-20T17:02:45.136890",
     "exception": false,
     "start_time": "2023-01-20T17:02:45.131528",
     "status": "completed"
    },
    "tags": []
   },
   "source": [
    "Theres 3 types of variables in these dataframes - **int64, float and object.**.\n",
    "\n",
    "Here, the object type variables are of the categorical and nominal variety. We will visualize their distribution with boxplots.\n",
    "The numerical (and hence continuous) variables here of the int64 and float types. We will visualize them using seaborn scatterplots."
   ]
  },
  {
   "cell_type": "code",
   "execution_count": 2,
   "id": "70d52f09",
   "metadata": {
    "execution": {
     "iopub.execute_input": "2023-01-20T17:02:45.149172Z",
     "iopub.status.busy": "2023-01-20T17:02:45.148838Z",
     "iopub.status.idle": "2023-01-20T17:02:45.166367Z",
     "shell.execute_reply": "2023-01-20T17:02:45.165605Z"
    },
    "papermill": {
     "duration": 0.0258,
     "end_time": "2023-01-20T17:02:45.168182",
     "exception": false,
     "start_time": "2023-01-20T17:02:45.142382",
     "status": "completed"
    },
    "tags": []
   },
   "outputs": [],
   "source": [
    "# list the data types for each column\n",
    "path=\"/kaggle/input/testdataset/automobile.csv\"\n",
    "df = pd.read_csv(path)\n",
    "df.head()\n",
    "typeinfo = pd.DataFrame(df.dtypes)"
   ]
  },
  {
   "cell_type": "code",
   "execution_count": 3,
   "id": "cf786f9a",
   "metadata": {
    "execution": {
     "iopub.execute_input": "2023-01-20T17:02:45.181044Z",
     "iopub.status.busy": "2023-01-20T17:02:45.180800Z",
     "iopub.status.idle": "2023-01-20T17:02:45.192607Z",
     "shell.execute_reply": "2023-01-20T17:02:45.192060Z"
    },
    "papermill": {
     "duration": 0.01939,
     "end_time": "2023-01-20T17:02:45.194000",
     "exception": false,
     "start_time": "2023-01-20T17:02:45.174610",
     "status": "completed"
    },
    "tags": []
   },
   "outputs": [
    {
     "data": {
      "text/html": [
       "<div>\n",
       "<style scoped>\n",
       "    .dataframe tbody tr th:only-of-type {\n",
       "        vertical-align: middle;\n",
       "    }\n",
       "\n",
       "    .dataframe tbody tr th {\n",
       "        vertical-align: top;\n",
       "    }\n",
       "\n",
       "    .dataframe thead th {\n",
       "        text-align: right;\n",
       "    }\n",
       "</style>\n",
       "<table border=\"1\" class=\"dataframe\">\n",
       "  <thead>\n",
       "    <tr style=\"text-align: right;\">\n",
       "      <th></th>\n",
       "      <th>0</th>\n",
       "    </tr>\n",
       "  </thead>\n",
       "  <tbody>\n",
       "    <tr>\n",
       "      <th>symboling</th>\n",
       "      <td>int64</td>\n",
       "    </tr>\n",
       "    <tr>\n",
       "      <th>normalized-losses</th>\n",
       "      <td>int64</td>\n",
       "    </tr>\n",
       "    <tr>\n",
       "      <th>make</th>\n",
       "      <td>object</td>\n",
       "    </tr>\n",
       "    <tr>\n",
       "      <th>aspiration</th>\n",
       "      <td>object</td>\n",
       "    </tr>\n",
       "    <tr>\n",
       "      <th>num-of-doors</th>\n",
       "      <td>object</td>\n",
       "    </tr>\n",
       "    <tr>\n",
       "      <th>body-style</th>\n",
       "      <td>object</td>\n",
       "    </tr>\n",
       "    <tr>\n",
       "      <th>drive-wheels</th>\n",
       "      <td>object</td>\n",
       "    </tr>\n",
       "    <tr>\n",
       "      <th>engine-location</th>\n",
       "      <td>object</td>\n",
       "    </tr>\n",
       "    <tr>\n",
       "      <th>wheel-base</th>\n",
       "      <td>float64</td>\n",
       "    </tr>\n",
       "    <tr>\n",
       "      <th>length</th>\n",
       "      <td>float64</td>\n",
       "    </tr>\n",
       "    <tr>\n",
       "      <th>width</th>\n",
       "      <td>float64</td>\n",
       "    </tr>\n",
       "    <tr>\n",
       "      <th>height</th>\n",
       "      <td>float64</td>\n",
       "    </tr>\n",
       "    <tr>\n",
       "      <th>curb-weight</th>\n",
       "      <td>int64</td>\n",
       "    </tr>\n",
       "    <tr>\n",
       "      <th>engine-type</th>\n",
       "      <td>object</td>\n",
       "    </tr>\n",
       "    <tr>\n",
       "      <th>num-of-cylinders</th>\n",
       "      <td>object</td>\n",
       "    </tr>\n",
       "    <tr>\n",
       "      <th>engine-size</th>\n",
       "      <td>int64</td>\n",
       "    </tr>\n",
       "    <tr>\n",
       "      <th>fuel-system</th>\n",
       "      <td>object</td>\n",
       "    </tr>\n",
       "    <tr>\n",
       "      <th>bore</th>\n",
       "      <td>float64</td>\n",
       "    </tr>\n",
       "    <tr>\n",
       "      <th>stroke</th>\n",
       "      <td>float64</td>\n",
       "    </tr>\n",
       "    <tr>\n",
       "      <th>compression-ratio</th>\n",
       "      <td>float64</td>\n",
       "    </tr>\n",
       "    <tr>\n",
       "      <th>horsepower</th>\n",
       "      <td>float64</td>\n",
       "    </tr>\n",
       "    <tr>\n",
       "      <th>peak-rpm</th>\n",
       "      <td>float64</td>\n",
       "    </tr>\n",
       "    <tr>\n",
       "      <th>city-mpg</th>\n",
       "      <td>int64</td>\n",
       "    </tr>\n",
       "    <tr>\n",
       "      <th>highway-mpg</th>\n",
       "      <td>int64</td>\n",
       "    </tr>\n",
       "    <tr>\n",
       "      <th>price</th>\n",
       "      <td>float64</td>\n",
       "    </tr>\n",
       "    <tr>\n",
       "      <th>city-L/100km</th>\n",
       "      <td>float64</td>\n",
       "    </tr>\n",
       "    <tr>\n",
       "      <th>horsepower-binned</th>\n",
       "      <td>object</td>\n",
       "    </tr>\n",
       "    <tr>\n",
       "      <th>diesel</th>\n",
       "      <td>int64</td>\n",
       "    </tr>\n",
       "    <tr>\n",
       "      <th>gas</th>\n",
       "      <td>int64</td>\n",
       "    </tr>\n",
       "  </tbody>\n",
       "</table>\n",
       "</div>"
      ],
      "text/plain": [
       "                         0\n",
       "symboling            int64\n",
       "normalized-losses    int64\n",
       "make                object\n",
       "aspiration          object\n",
       "num-of-doors        object\n",
       "body-style          object\n",
       "drive-wheels        object\n",
       "engine-location     object\n",
       "wheel-base         float64\n",
       "length             float64\n",
       "width              float64\n",
       "height             float64\n",
       "curb-weight          int64\n",
       "engine-type         object\n",
       "num-of-cylinders    object\n",
       "engine-size          int64\n",
       "fuel-system         object\n",
       "bore               float64\n",
       "stroke             float64\n",
       "compression-ratio  float64\n",
       "horsepower         float64\n",
       "peak-rpm           float64\n",
       "city-mpg             int64\n",
       "highway-mpg          int64\n",
       "price              float64\n",
       "city-L/100km       float64\n",
       "horsepower-binned   object\n",
       "diesel               int64\n",
       "gas                  int64"
      ]
     },
     "execution_count": 3,
     "metadata": {},
     "output_type": "execute_result"
    }
   ],
   "source": [
    "typeinfo"
   ]
  },
  {
   "cell_type": "code",
   "execution_count": 4,
   "id": "71e5c9e7",
   "metadata": {
    "execution": {
     "iopub.execute_input": "2023-01-20T17:02:45.206623Z",
     "iopub.status.busy": "2023-01-20T17:02:45.206068Z",
     "iopub.status.idle": "2023-01-20T17:02:45.309856Z",
     "shell.execute_reply": "2023-01-20T17:02:45.308891Z"
    },
    "papermill": {
     "duration": 0.111927,
     "end_time": "2023-01-20T17:02:45.311662",
     "exception": false,
     "start_time": "2023-01-20T17:02:45.199735",
     "status": "completed"
    },
    "tags": []
   },
   "outputs": [
    {
     "data": {
      "text/html": [
       "<div>\n",
       "<style scoped>\n",
       "    .dataframe tbody tr th:only-of-type {\n",
       "        vertical-align: middle;\n",
       "    }\n",
       "\n",
       "    .dataframe tbody tr th {\n",
       "        vertical-align: top;\n",
       "    }\n",
       "\n",
       "    .dataframe thead th {\n",
       "        text-align: right;\n",
       "    }\n",
       "</style>\n",
       "<table border=\"1\" class=\"dataframe\">\n",
       "  <thead>\n",
       "    <tr style=\"text-align: right;\">\n",
       "      <th></th>\n",
       "      <th>symboling</th>\n",
       "      <th>normalized-losses</th>\n",
       "      <th>make</th>\n",
       "      <th>aspiration</th>\n",
       "      <th>num-of-doors</th>\n",
       "      <th>body-style</th>\n",
       "      <th>drive-wheels</th>\n",
       "      <th>engine-location</th>\n",
       "      <th>wheel-base</th>\n",
       "      <th>length</th>\n",
       "      <th>...</th>\n",
       "      <th>compression-ratio</th>\n",
       "      <th>horsepower</th>\n",
       "      <th>peak-rpm</th>\n",
       "      <th>city-mpg</th>\n",
       "      <th>highway-mpg</th>\n",
       "      <th>price</th>\n",
       "      <th>city-L/100km</th>\n",
       "      <th>horsepower-binned</th>\n",
       "      <th>diesel</th>\n",
       "      <th>gas</th>\n",
       "    </tr>\n",
       "  </thead>\n",
       "  <tbody>\n",
       "    <tr>\n",
       "      <th>count</th>\n",
       "      <td>201.000000</td>\n",
       "      <td>201.00000</td>\n",
       "      <td>201</td>\n",
       "      <td>201</td>\n",
       "      <td>201</td>\n",
       "      <td>201</td>\n",
       "      <td>201</td>\n",
       "      <td>201</td>\n",
       "      <td>201.000000</td>\n",
       "      <td>201.000000</td>\n",
       "      <td>...</td>\n",
       "      <td>201.000000</td>\n",
       "      <td>201.000000</td>\n",
       "      <td>201.000000</td>\n",
       "      <td>201.000000</td>\n",
       "      <td>201.000000</td>\n",
       "      <td>201.000000</td>\n",
       "      <td>201.000000</td>\n",
       "      <td>200</td>\n",
       "      <td>201.000000</td>\n",
       "      <td>201.000000</td>\n",
       "    </tr>\n",
       "    <tr>\n",
       "      <th>unique</th>\n",
       "      <td>NaN</td>\n",
       "      <td>NaN</td>\n",
       "      <td>22</td>\n",
       "      <td>2</td>\n",
       "      <td>2</td>\n",
       "      <td>5</td>\n",
       "      <td>3</td>\n",
       "      <td>2</td>\n",
       "      <td>NaN</td>\n",
       "      <td>NaN</td>\n",
       "      <td>...</td>\n",
       "      <td>NaN</td>\n",
       "      <td>NaN</td>\n",
       "      <td>NaN</td>\n",
       "      <td>NaN</td>\n",
       "      <td>NaN</td>\n",
       "      <td>NaN</td>\n",
       "      <td>NaN</td>\n",
       "      <td>3</td>\n",
       "      <td>NaN</td>\n",
       "      <td>NaN</td>\n",
       "    </tr>\n",
       "    <tr>\n",
       "      <th>top</th>\n",
       "      <td>NaN</td>\n",
       "      <td>NaN</td>\n",
       "      <td>toyota</td>\n",
       "      <td>std</td>\n",
       "      <td>four</td>\n",
       "      <td>sedan</td>\n",
       "      <td>fwd</td>\n",
       "      <td>front</td>\n",
       "      <td>NaN</td>\n",
       "      <td>NaN</td>\n",
       "      <td>...</td>\n",
       "      <td>NaN</td>\n",
       "      <td>NaN</td>\n",
       "      <td>NaN</td>\n",
       "      <td>NaN</td>\n",
       "      <td>NaN</td>\n",
       "      <td>NaN</td>\n",
       "      <td>NaN</td>\n",
       "      <td>Low</td>\n",
       "      <td>NaN</td>\n",
       "      <td>NaN</td>\n",
       "    </tr>\n",
       "    <tr>\n",
       "      <th>freq</th>\n",
       "      <td>NaN</td>\n",
       "      <td>NaN</td>\n",
       "      <td>32</td>\n",
       "      <td>165</td>\n",
       "      <td>115</td>\n",
       "      <td>94</td>\n",
       "      <td>118</td>\n",
       "      <td>198</td>\n",
       "      <td>NaN</td>\n",
       "      <td>NaN</td>\n",
       "      <td>...</td>\n",
       "      <td>NaN</td>\n",
       "      <td>NaN</td>\n",
       "      <td>NaN</td>\n",
       "      <td>NaN</td>\n",
       "      <td>NaN</td>\n",
       "      <td>NaN</td>\n",
       "      <td>NaN</td>\n",
       "      <td>115</td>\n",
       "      <td>NaN</td>\n",
       "      <td>NaN</td>\n",
       "    </tr>\n",
       "    <tr>\n",
       "      <th>mean</th>\n",
       "      <td>0.840796</td>\n",
       "      <td>122.00000</td>\n",
       "      <td>NaN</td>\n",
       "      <td>NaN</td>\n",
       "      <td>NaN</td>\n",
       "      <td>NaN</td>\n",
       "      <td>NaN</td>\n",
       "      <td>NaN</td>\n",
       "      <td>98.797015</td>\n",
       "      <td>0.837102</td>\n",
       "      <td>...</td>\n",
       "      <td>10.164279</td>\n",
       "      <td>103.405534</td>\n",
       "      <td>5117.665368</td>\n",
       "      <td>25.179104</td>\n",
       "      <td>30.686567</td>\n",
       "      <td>13207.129353</td>\n",
       "      <td>9.944145</td>\n",
       "      <td>NaN</td>\n",
       "      <td>0.099502</td>\n",
       "      <td>0.900498</td>\n",
       "    </tr>\n",
       "    <tr>\n",
       "      <th>std</th>\n",
       "      <td>1.254802</td>\n",
       "      <td>31.99625</td>\n",
       "      <td>NaN</td>\n",
       "      <td>NaN</td>\n",
       "      <td>NaN</td>\n",
       "      <td>NaN</td>\n",
       "      <td>NaN</td>\n",
       "      <td>NaN</td>\n",
       "      <td>6.066366</td>\n",
       "      <td>0.059213</td>\n",
       "      <td>...</td>\n",
       "      <td>4.004965</td>\n",
       "      <td>37.365700</td>\n",
       "      <td>478.113805</td>\n",
       "      <td>6.423220</td>\n",
       "      <td>6.815150</td>\n",
       "      <td>7947.066342</td>\n",
       "      <td>2.534599</td>\n",
       "      <td>NaN</td>\n",
       "      <td>0.300083</td>\n",
       "      <td>0.300083</td>\n",
       "    </tr>\n",
       "    <tr>\n",
       "      <th>min</th>\n",
       "      <td>-2.000000</td>\n",
       "      <td>65.00000</td>\n",
       "      <td>NaN</td>\n",
       "      <td>NaN</td>\n",
       "      <td>NaN</td>\n",
       "      <td>NaN</td>\n",
       "      <td>NaN</td>\n",
       "      <td>NaN</td>\n",
       "      <td>86.600000</td>\n",
       "      <td>0.678039</td>\n",
       "      <td>...</td>\n",
       "      <td>7.000000</td>\n",
       "      <td>48.000000</td>\n",
       "      <td>4150.000000</td>\n",
       "      <td>13.000000</td>\n",
       "      <td>16.000000</td>\n",
       "      <td>5118.000000</td>\n",
       "      <td>4.795918</td>\n",
       "      <td>NaN</td>\n",
       "      <td>0.000000</td>\n",
       "      <td>0.000000</td>\n",
       "    </tr>\n",
       "    <tr>\n",
       "      <th>25%</th>\n",
       "      <td>0.000000</td>\n",
       "      <td>101.00000</td>\n",
       "      <td>NaN</td>\n",
       "      <td>NaN</td>\n",
       "      <td>NaN</td>\n",
       "      <td>NaN</td>\n",
       "      <td>NaN</td>\n",
       "      <td>NaN</td>\n",
       "      <td>94.500000</td>\n",
       "      <td>0.801538</td>\n",
       "      <td>...</td>\n",
       "      <td>8.600000</td>\n",
       "      <td>70.000000</td>\n",
       "      <td>4800.000000</td>\n",
       "      <td>19.000000</td>\n",
       "      <td>25.000000</td>\n",
       "      <td>7775.000000</td>\n",
       "      <td>7.833333</td>\n",
       "      <td>NaN</td>\n",
       "      <td>0.000000</td>\n",
       "      <td>1.000000</td>\n",
       "    </tr>\n",
       "    <tr>\n",
       "      <th>50%</th>\n",
       "      <td>1.000000</td>\n",
       "      <td>122.00000</td>\n",
       "      <td>NaN</td>\n",
       "      <td>NaN</td>\n",
       "      <td>NaN</td>\n",
       "      <td>NaN</td>\n",
       "      <td>NaN</td>\n",
       "      <td>NaN</td>\n",
       "      <td>97.000000</td>\n",
       "      <td>0.832292</td>\n",
       "      <td>...</td>\n",
       "      <td>9.000000</td>\n",
       "      <td>95.000000</td>\n",
       "      <td>5125.369458</td>\n",
       "      <td>24.000000</td>\n",
       "      <td>30.000000</td>\n",
       "      <td>10295.000000</td>\n",
       "      <td>9.791667</td>\n",
       "      <td>NaN</td>\n",
       "      <td>0.000000</td>\n",
       "      <td>1.000000</td>\n",
       "    </tr>\n",
       "    <tr>\n",
       "      <th>75%</th>\n",
       "      <td>2.000000</td>\n",
       "      <td>137.00000</td>\n",
       "      <td>NaN</td>\n",
       "      <td>NaN</td>\n",
       "      <td>NaN</td>\n",
       "      <td>NaN</td>\n",
       "      <td>NaN</td>\n",
       "      <td>NaN</td>\n",
       "      <td>102.400000</td>\n",
       "      <td>0.881788</td>\n",
       "      <td>...</td>\n",
       "      <td>9.400000</td>\n",
       "      <td>116.000000</td>\n",
       "      <td>5500.000000</td>\n",
       "      <td>30.000000</td>\n",
       "      <td>34.000000</td>\n",
       "      <td>16500.000000</td>\n",
       "      <td>12.368421</td>\n",
       "      <td>NaN</td>\n",
       "      <td>0.000000</td>\n",
       "      <td>1.000000</td>\n",
       "    </tr>\n",
       "    <tr>\n",
       "      <th>max</th>\n",
       "      <td>3.000000</td>\n",
       "      <td>256.00000</td>\n",
       "      <td>NaN</td>\n",
       "      <td>NaN</td>\n",
       "      <td>NaN</td>\n",
       "      <td>NaN</td>\n",
       "      <td>NaN</td>\n",
       "      <td>NaN</td>\n",
       "      <td>120.900000</td>\n",
       "      <td>1.000000</td>\n",
       "      <td>...</td>\n",
       "      <td>23.000000</td>\n",
       "      <td>262.000000</td>\n",
       "      <td>6600.000000</td>\n",
       "      <td>49.000000</td>\n",
       "      <td>54.000000</td>\n",
       "      <td>45400.000000</td>\n",
       "      <td>18.076923</td>\n",
       "      <td>NaN</td>\n",
       "      <td>1.000000</td>\n",
       "      <td>1.000000</td>\n",
       "    </tr>\n",
       "  </tbody>\n",
       "</table>\n",
       "<p>11 rows × 29 columns</p>\n",
       "</div>"
      ],
      "text/plain": [
       "         symboling  normalized-losses    make aspiration num-of-doors  \\\n",
       "count   201.000000          201.00000     201        201          201   \n",
       "unique         NaN                NaN      22          2            2   \n",
       "top            NaN                NaN  toyota        std         four   \n",
       "freq           NaN                NaN      32        165          115   \n",
       "mean      0.840796          122.00000     NaN        NaN          NaN   \n",
       "std       1.254802           31.99625     NaN        NaN          NaN   \n",
       "min      -2.000000           65.00000     NaN        NaN          NaN   \n",
       "25%       0.000000          101.00000     NaN        NaN          NaN   \n",
       "50%       1.000000          122.00000     NaN        NaN          NaN   \n",
       "75%       2.000000          137.00000     NaN        NaN          NaN   \n",
       "max       3.000000          256.00000     NaN        NaN          NaN   \n",
       "\n",
       "       body-style drive-wheels engine-location  wheel-base      length  ...  \\\n",
       "count         201          201             201  201.000000  201.000000  ...   \n",
       "unique          5            3               2         NaN         NaN  ...   \n",
       "top         sedan          fwd           front         NaN         NaN  ...   \n",
       "freq           94          118             198         NaN         NaN  ...   \n",
       "mean          NaN          NaN             NaN   98.797015    0.837102  ...   \n",
       "std           NaN          NaN             NaN    6.066366    0.059213  ...   \n",
       "min           NaN          NaN             NaN   86.600000    0.678039  ...   \n",
       "25%           NaN          NaN             NaN   94.500000    0.801538  ...   \n",
       "50%           NaN          NaN             NaN   97.000000    0.832292  ...   \n",
       "75%           NaN          NaN             NaN  102.400000    0.881788  ...   \n",
       "max           NaN          NaN             NaN  120.900000    1.000000  ...   \n",
       "\n",
       "        compression-ratio  horsepower     peak-rpm    city-mpg highway-mpg  \\\n",
       "count          201.000000  201.000000   201.000000  201.000000  201.000000   \n",
       "unique                NaN         NaN          NaN         NaN         NaN   \n",
       "top                   NaN         NaN          NaN         NaN         NaN   \n",
       "freq                  NaN         NaN          NaN         NaN         NaN   \n",
       "mean            10.164279  103.405534  5117.665368   25.179104   30.686567   \n",
       "std              4.004965   37.365700   478.113805    6.423220    6.815150   \n",
       "min              7.000000   48.000000  4150.000000   13.000000   16.000000   \n",
       "25%              8.600000   70.000000  4800.000000   19.000000   25.000000   \n",
       "50%              9.000000   95.000000  5125.369458   24.000000   30.000000   \n",
       "75%              9.400000  116.000000  5500.000000   30.000000   34.000000   \n",
       "max             23.000000  262.000000  6600.000000   49.000000   54.000000   \n",
       "\n",
       "               price city-L/100km  horsepower-binned      diesel         gas  \n",
       "count     201.000000   201.000000                200  201.000000  201.000000  \n",
       "unique           NaN          NaN                  3         NaN         NaN  \n",
       "top              NaN          NaN                Low         NaN         NaN  \n",
       "freq             NaN          NaN                115         NaN         NaN  \n",
       "mean    13207.129353     9.944145                NaN    0.099502    0.900498  \n",
       "std      7947.066342     2.534599                NaN    0.300083    0.300083  \n",
       "min      5118.000000     4.795918                NaN    0.000000    0.000000  \n",
       "25%      7775.000000     7.833333                NaN    0.000000    1.000000  \n",
       "50%     10295.000000     9.791667                NaN    0.000000    1.000000  \n",
       "75%     16500.000000    12.368421                NaN    0.000000    1.000000  \n",
       "max     45400.000000    18.076923                NaN    1.000000    1.000000  \n",
       "\n",
       "[11 rows x 29 columns]"
      ]
     },
     "execution_count": 4,
     "metadata": {},
     "output_type": "execute_result"
    }
   ],
   "source": [
    "df.describe() #--------------only numeric (float, int64) variables are considered\n",
    "df.describe(include='all')\n",
    "\n",
    "#uncomment below line to get a statistical summary of the numeric dtypes\n",
    "#df.describe(include=['float', 'int64'])"
   ]
  },
  {
   "cell_type": "markdown",
   "id": "a410c3bb",
   "metadata": {
    "papermill": {
     "duration": 0.006014,
     "end_time": "2023-01-20T17:02:45.324036",
     "exception": false,
     "start_time": "2023-01-20T17:02:45.318022",
     "status": "completed"
    },
    "tags": []
   },
   "source": [
    "Now we use ```df[[]].corr()``` to see the correlation table for different variables.\n",
    "* A higher corr between two variables indicates that theres a strong linear relationship between the variables."
   ]
  },
  {
   "cell_type": "code",
   "execution_count": 5,
   "id": "d89ccd55",
   "metadata": {
    "execution": {
     "iopub.execute_input": "2023-01-20T17:02:45.338335Z",
     "iopub.status.busy": "2023-01-20T17:02:45.337983Z",
     "iopub.status.idle": "2023-01-20T17:02:45.345001Z",
     "shell.execute_reply": "2023-01-20T17:02:45.344201Z"
    },
    "papermill": {
     "duration": 0.016543,
     "end_time": "2023-01-20T17:02:45.346674",
     "exception": false,
     "start_time": "2023-01-20T17:02:45.330131",
     "status": "completed"
    },
    "tags": []
   },
   "outputs": [],
   "source": [
    "corr_df = df[['bore','stroke','compression-ratio','horsepower', 'engine-size', 'peak-rpm','price']].corr()"
   ]
  },
  {
   "cell_type": "code",
   "execution_count": 6,
   "id": "9df11de4",
   "metadata": {
    "_kg_hide-input": true,
    "execution": {
     "iopub.execute_input": "2023-01-20T17:02:45.360251Z",
     "iopub.status.busy": "2023-01-20T17:02:45.359977Z",
     "iopub.status.idle": "2023-01-20T17:02:45.365227Z",
     "shell.execute_reply": "2023-01-20T17:02:45.364502Z"
    },
    "papermill": {
     "duration": 0.013658,
     "end_time": "2023-01-20T17:02:45.366706",
     "exception": false,
     "start_time": "2023-01-20T17:02:45.353048",
     "status": "completed"
    },
    "tags": []
   },
   "outputs": [
    {
     "data": {
      "text/plain": [
       "'\\nfor i, j in corr_df:\\n    if abs (corr_df[[i, j]]) >= 0.6:\\n        print(\"Variables with a high correlation coeff:\", i, j)\\n\\n\\ncorr_df[[\\'bore\\',\\'stroke\\']]\\n'"
      ]
     },
     "execution_count": 6,
     "metadata": {},
     "output_type": "execute_result"
    }
   ],
   "source": [
    "'''\n",
    "for i, j in corr_df:\n",
    "    if abs (corr_df[[i, j]]) >= 0.6:\n",
    "        print(\"Variables with a high correlation coeff:\", i, j)\n",
    "\n",
    "\n",
    "corr_df[['bore','stroke']]\n",
    "'''"
   ]
  },
  {
   "cell_type": "markdown",
   "id": "42eb60f9",
   "metadata": {
    "papermill": {
     "duration": 0.006187,
     "end_time": "2023-01-20T17:02:45.379850",
     "exception": false,
     "start_time": "2023-01-20T17:02:45.373663",
     "status": "completed"
    },
    "tags": []
   },
   "source": [
    "## **Visualizations**\n",
    "\n",
    "### ***Scatter plots***\n",
    "Now we use```sns.regplot(x='', y ='', data = df)``` to see the scatter and visualize the distribultion of variables with respect to the price variable.\n",
    "\n",
    " **Intution:** Tighter scatters mean a higher statistical significance and consequently, higher confidence levels in the correlation coefficient. \n",
    "* A 0.05 p-value or a 95% confidence interval means, if we sample data points randomly we can say, 95% of the time, the regression line (average) will fall within the range of these samples. Refer ```engine-size``` vs ```price``` scatter below.\n",
    "\n",
    "\n",
    "### ***Box and whisker plots***\n",
    "\n",
    "Box and whisker plots give us a 5-number summary: **mean, IQR, 25th percentile, 75th percentile, min and max.**\n",
    "We can **visualize the spread of the data** for each variable aginst the price variable. We can also visualize the one-way ANOVA by using these plots."
   ]
  },
  {
   "cell_type": "code",
   "execution_count": 7,
   "id": "cfab86c2",
   "metadata": {
    "execution": {
     "iopub.execute_input": "2023-01-20T17:02:45.394102Z",
     "iopub.status.busy": "2023-01-20T17:02:45.393829Z",
     "iopub.status.idle": "2023-01-20T17:02:45.661301Z",
     "shell.execute_reply": "2023-01-20T17:02:45.660370Z"
    },
    "papermill": {
     "duration": 0.276904,
     "end_time": "2023-01-20T17:02:45.662925",
     "exception": false,
     "start_time": "2023-01-20T17:02:45.386021",
     "status": "completed"
    },
    "tags": []
   },
   "outputs": [
    {
     "data": {
      "text/html": [
       "<div>\n",
       "<style scoped>\n",
       "    .dataframe tbody tr th:only-of-type {\n",
       "        vertical-align: middle;\n",
       "    }\n",
       "\n",
       "    .dataframe tbody tr th {\n",
       "        vertical-align: top;\n",
       "    }\n",
       "\n",
       "    .dataframe thead th {\n",
       "        text-align: right;\n",
       "    }\n",
       "</style>\n",
       "<table border=\"1\" class=\"dataframe\">\n",
       "  <thead>\n",
       "    <tr style=\"text-align: right;\">\n",
       "      <th></th>\n",
       "      <th>engine-size</th>\n",
       "      <th>price</th>\n",
       "    </tr>\n",
       "  </thead>\n",
       "  <tbody>\n",
       "    <tr>\n",
       "      <th>engine-size</th>\n",
       "      <td>1.000000</td>\n",
       "      <td>0.872335</td>\n",
       "    </tr>\n",
       "    <tr>\n",
       "      <th>price</th>\n",
       "      <td>0.872335</td>\n",
       "      <td>1.000000</td>\n",
       "    </tr>\n",
       "  </tbody>\n",
       "</table>\n",
       "</div>"
      ],
      "text/plain": [
       "             engine-size     price\n",
       "engine-size     1.000000  0.872335\n",
       "price           0.872335  1.000000"
      ]
     },
     "execution_count": 7,
     "metadata": {},
     "output_type": "execute_result"
    },
    {
     "data": {
      "image/png": "[encoded data removed]",
      "text/plain": [
       "<Figure size 432x288 with 1 Axes>"
      ]
     },
     "metadata": {
      "needs_background": "light"
     },
     "output_type": "display_data"
    }
   ],
   "source": [
    "sns.regplot(x = \"engine-size\", y = \"price\", data=df)\n",
    "plt.ylim(0,)\n",
    "df[[\"engine-size\", \"price\"]].corr()"
   ]
  },
  {
   "cell_type": "code",
   "execution_count": 8,
   "id": "12b8c15d",
   "metadata": {
    "execution": {
     "iopub.execute_input": "2023-01-20T17:02:45.678113Z",
     "iopub.status.busy": "2023-01-20T17:02:45.677402Z",
     "iopub.status.idle": "2023-01-20T17:02:45.895126Z",
     "shell.execute_reply": "2023-01-20T17:02:45.894315Z"
    },
    "papermill": {
     "duration": 0.226851,
     "end_time": "2023-01-20T17:02:45.896954",
     "exception": false,
     "start_time": "2023-01-20T17:02:45.670103",
     "status": "completed"
    },
    "tags": []
   },
   "outputs": [
    {
     "data": {
      "text/html": [
       "<div>\n",
       "<style scoped>\n",
       "    .dataframe tbody tr th:only-of-type {\n",
       "        vertical-align: middle;\n",
       "    }\n",
       "\n",
       "    .dataframe tbody tr th {\n",
       "        vertical-align: top;\n",
       "    }\n",
       "\n",
       "    .dataframe thead th {\n",
       "        text-align: right;\n",
       "    }\n",
       "</style>\n",
       "<table border=\"1\" class=\"dataframe\">\n",
       "  <thead>\n",
       "    <tr style=\"text-align: right;\">\n",
       "      <th></th>\n",
       "      <th>peak-rpm</th>\n",
       "      <th>price</th>\n",
       "    </tr>\n",
       "  </thead>\n",
       "  <tbody>\n",
       "    <tr>\n",
       "      <th>peak-rpm</th>\n",
       "      <td>1.000000</td>\n",
       "      <td>-0.101616</td>\n",
       "    </tr>\n",
       "    <tr>\n",
       "      <th>price</th>\n",
       "      <td>-0.101616</td>\n",
       "      <td>1.000000</td>\n",
       "    </tr>\n",
       "  </tbody>\n",
       "</table>\n",
       "</div>"
      ],
      "text/plain": [
       "          peak-rpm     price\n",
       "peak-rpm  1.000000 -0.101616\n",
       "price    -0.101616  1.000000"
      ]
     },
     "execution_count": 8,
     "metadata": {},
     "output_type": "execute_result"
    },
    {
     "data": {
      "image/png": "[encoded data removed]",
      "text/plain": [
       "<Figure size 432x288 with 1 Axes>"
      ]
     },
     "metadata": {
      "needs_background": "light"
     },
     "output_type": "display_data"
    }
   ],
   "source": [
    "sns.regplot(x=\"highway-mpg\", y=\"price\", data=df)\n",
    "df[['peak-rpm','price']].corr()"
   ]
  },
  {
   "cell_type": "code",
   "execution_count": 9,
   "id": "7fb89805",
   "metadata": {
    "execution": {
     "iopub.execute_input": "2023-01-20T17:02:45.912843Z",
     "iopub.status.busy": "2023-01-20T17:02:45.912370Z",
     "iopub.status.idle": "2023-01-20T17:02:46.131364Z",
     "shell.execute_reply": "2023-01-20T17:02:46.130252Z"
    },
    "papermill": {
     "duration": 0.228815,
     "end_time": "2023-01-20T17:02:46.133182",
     "exception": false,
     "start_time": "2023-01-20T17:02:45.904367",
     "status": "completed"
    },
    "tags": []
   },
   "outputs": [
    {
     "data": {
      "text/html": [
       "<div>\n",
       "<style scoped>\n",
       "    .dataframe tbody tr th:only-of-type {\n",
       "        vertical-align: middle;\n",
       "    }\n",
       "\n",
       "    .dataframe tbody tr th {\n",
       "        vertical-align: top;\n",
       "    }\n",
       "\n",
       "    .dataframe thead th {\n",
       "        text-align: right;\n",
       "    }\n",
       "</style>\n",
       "<table border=\"1\" class=\"dataframe\">\n",
       "  <thead>\n",
       "    <tr style=\"text-align: right;\">\n",
       "      <th></th>\n",
       "      <th>peak-rpm</th>\n",
       "      <th>price</th>\n",
       "    </tr>\n",
       "  </thead>\n",
       "  <tbody>\n",
       "    <tr>\n",
       "      <th>peak-rpm</th>\n",
       "      <td>1.000000</td>\n",
       "      <td>-0.101616</td>\n",
       "    </tr>\n",
       "    <tr>\n",
       "      <th>price</th>\n",
       "      <td>-0.101616</td>\n",
       "      <td>1.000000</td>\n",
       "    </tr>\n",
       "  </tbody>\n",
       "</table>\n",
       "</div>"
      ],
      "text/plain": [
       "          peak-rpm     price\n",
       "peak-rpm  1.000000 -0.101616\n",
       "price    -0.101616  1.000000"
      ]
     },
     "execution_count": 9,
     "metadata": {},
     "output_type": "execute_result"
    },
    {
     "data": {
      "image/png": "[encoded data removed]",
      "text/plain": [
       "<Figure size 432x288 with 1 Axes>"
      ]
     },
     "metadata": {
      "needs_background": "light"
     },
     "output_type": "display_data"
    }
   ],
   "source": [
    "sns.regplot(x=\"peak-rpm\", y=\"price\", data=df)\n",
    "df[['peak-rpm','price']].corr()"
   ]
  },
  {
   "cell_type": "code",
   "execution_count": 10,
   "id": "a07fefe4",
   "metadata": {
    "execution": {
     "iopub.execute_input": "2023-01-20T17:02:46.151159Z",
     "iopub.status.busy": "2023-01-20T17:02:46.150632Z",
     "iopub.status.idle": "2023-01-20T17:02:46.365943Z",
     "shell.execute_reply": "2023-01-20T17:02:46.365289Z"
    },
    "papermill": {
     "duration": 0.22652,
     "end_time": "2023-01-20T17:02:46.367662",
     "exception": false,
     "start_time": "2023-01-20T17:02:46.141142",
     "status": "completed"
    },
    "tags": []
   },
   "outputs": [
    {
     "data": {
      "text/html": [
       "<div>\n",
       "<style scoped>\n",
       "    .dataframe tbody tr th:only-of-type {\n",
       "        vertical-align: middle;\n",
       "    }\n",
       "\n",
       "    .dataframe tbody tr th {\n",
       "        vertical-align: top;\n",
       "    }\n",
       "\n",
       "    .dataframe thead th {\n",
       "        text-align: right;\n",
       "    }\n",
       "</style>\n",
       "<table border=\"1\" class=\"dataframe\">\n",
       "  <thead>\n",
       "    <tr style=\"text-align: right;\">\n",
       "      <th></th>\n",
       "      <th>stroke</th>\n",
       "      <th>price</th>\n",
       "    </tr>\n",
       "  </thead>\n",
       "  <tbody>\n",
       "    <tr>\n",
       "      <th>stroke</th>\n",
       "      <td>1.00000</td>\n",
       "      <td>0.08231</td>\n",
       "    </tr>\n",
       "    <tr>\n",
       "      <th>price</th>\n",
       "      <td>0.08231</td>\n",
       "      <td>1.00000</td>\n",
       "    </tr>\n",
       "  </tbody>\n",
       "</table>\n",
       "</div>"
      ],
      "text/plain": [
       "         stroke    price\n",
       "stroke  1.00000  0.08231\n",
       "price   0.08231  1.00000"
      ]
     },
     "execution_count": 10,
     "metadata": {},
     "output_type": "execute_result"
    },
    {
     "data": {
      "image/png": "[encoded data removed]",
      "text/plain": [
       "<Figure size 432x288 with 1 Axes>"
      ]
     },
     "metadata": {
      "needs_background": "light"
     },
     "output_type": "display_data"
    }
   ],
   "source": [
    "sns.regplot(x=\"stroke\", y=\"price\", data=df)\n",
    "df[[\"stroke\",\"price\"]].corr()"
   ]
  },
  {
   "cell_type": "code",
   "execution_count": 11,
   "id": "2b0e9de4",
   "metadata": {
    "execution": {
     "iopub.execute_input": "2023-01-20T17:02:46.387029Z",
     "iopub.status.busy": "2023-01-20T17:02:46.386593Z",
     "iopub.status.idle": "2023-01-20T17:02:46.501234Z",
     "shell.execute_reply": "2023-01-20T17:02:46.500411Z"
    },
    "papermill": {
     "duration": 0.125594,
     "end_time": "2023-01-20T17:02:46.502943",
     "exception": false,
     "start_time": "2023-01-20T17:02:46.377349",
     "status": "completed"
    },
    "tags": []
   },
   "outputs": [
    {
     "data": {
      "text/plain": [
       "<AxesSubplot:xlabel='engine-location', ylabel='price'>"
      ]
     },
     "execution_count": 11,
     "metadata": {},
     "output_type": "execute_result"
    },
    {
     "data": {
      "image/png": "[encoded data removed]",
      "text/plain": [
       "<Figure size 432x288 with 1 Axes>"
      ]
     },
     "metadata": {
      "needs_background": "light"
     },
     "output_type": "display_data"
    }
   ],
   "source": [
    "sns.boxplot(x=\"engine-location\", y=\"price\", data=df)"
   ]
  },
  {
   "cell_type": "code",
   "execution_count": 12,
   "id": "f5375b62",
   "metadata": {
    "execution": {
     "iopub.execute_input": "2023-01-20T17:02:46.522280Z",
     "iopub.status.busy": "2023-01-20T17:02:46.520825Z",
     "iopub.status.idle": "2023-01-20T17:02:46.676275Z",
     "shell.execute_reply": "2023-01-20T17:02:46.675332Z"
    },
    "papermill": {
     "duration": 0.166613,
     "end_time": "2023-01-20T17:02:46.678142",
     "exception": false,
     "start_time": "2023-01-20T17:02:46.511529",
     "status": "completed"
    },
    "tags": []
   },
   "outputs": [
    {
     "data": {
      "text/plain": [
       "<AxesSubplot:xlabel='body-style', ylabel='price'>"
      ]
     },
     "execution_count": 12,
     "metadata": {},
     "output_type": "execute_result"
    },
    {
     "data": {
      "image/png": "[encoded data removed]",
      "text/plain": [
       "<Figure size 432x288 with 1 Axes>"
      ]
     },
     "metadata": {
      "needs_background": "light"
     },
     "output_type": "display_data"
    }
   ],
   "source": [
    "sns.boxplot(x=\"body-style\", y=\"price\", data=df)"
   ]
  },
  {
   "cell_type": "code",
   "execution_count": 13,
   "id": "ac2309cd",
   "metadata": {
    "execution": {
     "iopub.execute_input": "2023-01-20T17:02:46.696769Z",
     "iopub.status.busy": "2023-01-20T17:02:46.696505Z",
     "iopub.status.idle": "2023-01-20T17:02:46.824941Z",
     "shell.execute_reply": "2023-01-20T17:02:46.824113Z"
    },
    "papermill": {
     "duration": 0.139506,
     "end_time": "2023-01-20T17:02:46.826625",
     "exception": false,
     "start_time": "2023-01-20T17:02:46.687119",
     "status": "completed"
    },
    "tags": []
   },
   "outputs": [
    {
     "data": {
      "text/plain": [
       "<AxesSubplot:xlabel='drive-wheels', ylabel='price'>"
      ]
     },
     "execution_count": 13,
     "metadata": {},
     "output_type": "execute_result"
    },
    {
     "data": {
      "image/png": "[encoded data removed]",
      "text/plain": [
       "<Figure size 432x288 with 1 Axes>"
      ]
     },
     "metadata": {
      "needs_background": "light"
     },
     "output_type": "display_data"
    }
   ],
   "source": [
    "sns.boxplot(x=\"drive-wheels\", y=\"price\", data=df)\n",
    "#Refer to ANOVA below"
   ]
  },
  {
   "cell_type": "code",
   "execution_count": 14,
   "id": "a7a148b2",
   "metadata": {
    "execution": {
     "iopub.execute_input": "2023-01-20T17:02:46.846054Z",
     "iopub.status.busy": "2023-01-20T17:02:46.845631Z",
     "iopub.status.idle": "2023-01-20T17:02:46.853125Z",
     "shell.execute_reply": "2023-01-20T17:02:46.852531Z"
    },
    "papermill": {
     "duration": 0.018985,
     "end_time": "2023-01-20T17:02:46.854733",
     "exception": false,
     "start_time": "2023-01-20T17:02:46.835748",
     "status": "completed"
    },
    "tags": []
   },
   "outputs": [
    {
     "data": {
      "text/html": [
       "<div>\n",
       "<style scoped>\n",
       "    .dataframe tbody tr th:only-of-type {\n",
       "        vertical-align: middle;\n",
       "    }\n",
       "\n",
       "    .dataframe tbody tr th {\n",
       "        vertical-align: top;\n",
       "    }\n",
       "\n",
       "    .dataframe thead th {\n",
       "        text-align: right;\n",
       "    }\n",
       "</style>\n",
       "<table border=\"1\" class=\"dataframe\">\n",
       "  <thead>\n",
       "    <tr style=\"text-align: right;\">\n",
       "      <th></th>\n",
       "      <th>drive-wheels</th>\n",
       "    </tr>\n",
       "  </thead>\n",
       "  <tbody>\n",
       "    <tr>\n",
       "      <th>fwd</th>\n",
       "      <td>118</td>\n",
       "    </tr>\n",
       "    <tr>\n",
       "      <th>rwd</th>\n",
       "      <td>75</td>\n",
       "    </tr>\n",
       "    <tr>\n",
       "      <th>4wd</th>\n",
       "      <td>8</td>\n",
       "    </tr>\n",
       "  </tbody>\n",
       "</table>\n",
       "</div>"
      ],
      "text/plain": [
       "     drive-wheels\n",
       "fwd           118\n",
       "rwd            75\n",
       "4wd             8"
      ]
     },
     "execution_count": 14,
     "metadata": {},
     "output_type": "execute_result"
    }
   ],
   "source": [
    "x= df['drive-wheels'].value_counts().to_frame()\n",
    "x"
   ]
  },
  {
   "cell_type": "code",
   "execution_count": 15,
   "id": "85c3b983",
   "metadata": {
    "execution": {
     "iopub.execute_input": "2023-01-20T17:02:46.873710Z",
     "iopub.status.busy": "2023-01-20T17:02:46.873446Z",
     "iopub.status.idle": "2023-01-20T17:02:46.881998Z",
     "shell.execute_reply": "2023-01-20T17:02:46.881213Z"
    },
    "papermill": {
     "duration": 0.019865,
     "end_time": "2023-01-20T17:02:46.883566",
     "exception": false,
     "start_time": "2023-01-20T17:02:46.863701",
     "status": "completed"
    },
    "tags": []
   },
   "outputs": [
    {
     "data": {
      "text/html": [
       "<div>\n",
       "<style scoped>\n",
       "    .dataframe tbody tr th:only-of-type {\n",
       "        vertical-align: middle;\n",
       "    }\n",
       "\n",
       "    .dataframe tbody tr th {\n",
       "        vertical-align: top;\n",
       "    }\n",
       "\n",
       "    .dataframe thead th {\n",
       "        text-align: right;\n",
       "    }\n",
       "</style>\n",
       "<table border=\"1\" class=\"dataframe\">\n",
       "  <thead>\n",
       "    <tr style=\"text-align: right;\">\n",
       "      <th></th>\n",
       "      <th>value_counts</th>\n",
       "    </tr>\n",
       "    <tr>\n",
       "      <th>drive-wheels</th>\n",
       "      <th></th>\n",
       "    </tr>\n",
       "  </thead>\n",
       "  <tbody>\n",
       "    <tr>\n",
       "      <th>fwd</th>\n",
       "      <td>118</td>\n",
       "    </tr>\n",
       "    <tr>\n",
       "      <th>rwd</th>\n",
       "      <td>75</td>\n",
       "    </tr>\n",
       "    <tr>\n",
       "      <th>4wd</th>\n",
       "      <td>8</td>\n",
       "    </tr>\n",
       "  </tbody>\n",
       "</table>\n",
       "</div>"
      ],
      "text/plain": [
       "              value_counts\n",
       "drive-wheels              \n",
       "fwd                    118\n",
       "rwd                     75\n",
       "4wd                      8"
      ]
     },
     "execution_count": 15,
     "metadata": {},
     "output_type": "execute_result"
    }
   ],
   "source": [
    "drive_wheels_counts = df['drive-wheels'].value_counts().to_frame()\n",
    "drive_wheels_counts.rename(columns={'drive-wheels': 'value_counts'}, inplace=True)\n",
    "drive_wheels_counts.index.name = 'drive-wheels'\n",
    "drive_wheels_counts"
   ]
  },
  {
   "cell_type": "code",
   "execution_count": 16,
   "id": "5e075341",
   "metadata": {
    "execution": {
     "iopub.execute_input": "2023-01-20T17:02:46.903391Z",
     "iopub.status.busy": "2023-01-20T17:02:46.902733Z",
     "iopub.status.idle": "2023-01-20T17:02:46.912731Z",
     "shell.execute_reply": "2023-01-20T17:02:46.912078Z"
    },
    "papermill": {
     "duration": 0.021578,
     "end_time": "2023-01-20T17:02:46.914364",
     "exception": false,
     "start_time": "2023-01-20T17:02:46.892786",
     "status": "completed"
    },
    "tags": []
   },
   "outputs": [
    {
     "data": {
      "text/html": [
       "<div>\n",
       "<style scoped>\n",
       "    .dataframe tbody tr th:only-of-type {\n",
       "        vertical-align: middle;\n",
       "    }\n",
       "\n",
       "    .dataframe tbody tr th {\n",
       "        vertical-align: top;\n",
       "    }\n",
       "\n",
       "    .dataframe thead th {\n",
       "        text-align: right;\n",
       "    }\n",
       "</style>\n",
       "<table border=\"1\" class=\"dataframe\">\n",
       "  <thead>\n",
       "    <tr style=\"text-align: right;\">\n",
       "      <th></th>\n",
       "      <th>value_counts</th>\n",
       "    </tr>\n",
       "    <tr>\n",
       "      <th>engine-location</th>\n",
       "      <th></th>\n",
       "    </tr>\n",
       "  </thead>\n",
       "  <tbody>\n",
       "    <tr>\n",
       "      <th>front</th>\n",
       "      <td>198</td>\n",
       "    </tr>\n",
       "    <tr>\n",
       "      <th>rear</th>\n",
       "      <td>3</td>\n",
       "    </tr>\n",
       "  </tbody>\n",
       "</table>\n",
       "</div>"
      ],
      "text/plain": [
       "                 value_counts\n",
       "engine-location              \n",
       "front                     198\n",
       "rear                        3"
      ]
     },
     "execution_count": 16,
     "metadata": {},
     "output_type": "execute_result"
    }
   ],
   "source": [
    "# engine-location as variable\n",
    "engine_loc_counts = df['engine-location'].value_counts().to_frame()\n",
    "engine_loc_counts.rename(columns={'engine-location': 'value_counts'}, inplace=True)\n",
    "engine_loc_counts.index.name = 'engine-location'\n",
    "engine_loc_counts.head(10)"
   ]
  },
  {
   "cell_type": "code",
   "execution_count": 17,
   "id": "af4d4d77",
   "metadata": {
    "execution": {
     "iopub.execute_input": "2023-01-20T17:02:46.934852Z",
     "iopub.status.busy": "2023-01-20T17:02:46.934359Z",
     "iopub.status.idle": "2023-01-20T17:02:46.943106Z",
     "shell.execute_reply": "2023-01-20T17:02:46.942362Z"
    },
    "papermill": {
     "duration": 0.02069,
     "end_time": "2023-01-20T17:02:46.944708",
     "exception": false,
     "start_time": "2023-01-20T17:02:46.924018",
     "status": "completed"
    },
    "tags": []
   },
   "outputs": [
    {
     "data": {
      "text/html": [
       "<div>\n",
       "<style scoped>\n",
       "    .dataframe tbody tr th:only-of-type {\n",
       "        vertical-align: middle;\n",
       "    }\n",
       "\n",
       "    .dataframe tbody tr th {\n",
       "        vertical-align: top;\n",
       "    }\n",
       "\n",
       "    .dataframe thead th {\n",
       "        text-align: right;\n",
       "    }\n",
       "</style>\n",
       "<table border=\"1\" class=\"dataframe\">\n",
       "  <thead>\n",
       "    <tr style=\"text-align: right;\">\n",
       "      <th></th>\n",
       "      <th>value_counts</th>\n",
       "    </tr>\n",
       "    <tr>\n",
       "      <th>engine-location</th>\n",
       "      <th></th>\n",
       "    </tr>\n",
       "  </thead>\n",
       "  <tbody>\n",
       "    <tr>\n",
       "      <th>front</th>\n",
       "      <td>198</td>\n",
       "    </tr>\n",
       "    <tr>\n",
       "      <th>rear</th>\n",
       "      <td>3</td>\n",
       "    </tr>\n",
       "  </tbody>\n",
       "</table>\n",
       "</div>"
      ],
      "text/plain": [
       "                 value_counts\n",
       "engine-location              \n",
       "front                     198\n",
       "rear                        3"
      ]
     },
     "execution_count": 17,
     "metadata": {},
     "output_type": "execute_result"
    }
   ],
   "source": [
    "engine_loc_counts = df['engine-location'].value_counts().to_frame()\n",
    "engine_loc_counts.rename(columns={\"engine-location\" : \"value_counts\"}, inplace=True)\n",
    "engine_loc_counts.index.name = 'engine-location'\n",
    "engine_loc_counts.head(10)\n"
   ]
  },
  {
   "cell_type": "code",
   "execution_count": 18,
   "id": "8e058df0",
   "metadata": {
    "execution": {
     "iopub.execute_input": "2023-01-20T17:02:46.964546Z",
     "iopub.status.busy": "2023-01-20T17:02:46.964096Z",
     "iopub.status.idle": "2023-01-20T17:02:46.969057Z",
     "shell.execute_reply": "2023-01-20T17:02:46.968535Z"
    },
    "papermill": {
     "duration": 0.016682,
     "end_time": "2023-01-20T17:02:46.970638",
     "exception": false,
     "start_time": "2023-01-20T17:02:46.953956",
     "status": "completed"
    },
    "tags": []
   },
   "outputs": [
    {
     "data": {
      "text/plain": [
       "array(['rwd', 'fwd', '4wd'], dtype=object)"
      ]
     },
     "execution_count": 18,
     "metadata": {},
     "output_type": "execute_result"
    }
   ],
   "source": [
    "df['drive-wheels'].unique()"
   ]
  },
  {
   "cell_type": "code",
   "execution_count": null,
   "id": "4d892884",
   "metadata": {
    "papermill": {
     "duration": 0.00924,
     "end_time": "2023-01-20T17:02:46.989312",
     "exception": false,
     "start_time": "2023-01-20T17:02:46.980072",
     "status": "completed"
    },
    "tags": []
   },
   "outputs": [],
   "source": []
  }
 ],
 "metadata": {
  "kernelspec": {
   "display_name": "Python 3",
   "language": "python",
   "name": "python3"
  },
  "language_info": {
   "codemirror_mode": {
    "name": "ipython",
    "version": 3
   },
   "file_extension": ".py",
   "mimetype": "text/x-python",
   "name": "python",
   "nbconvert_exporter": "python",
   "pygments_lexer": "ipython3",
   "version": "3.7.12"
  },
  "papermill": {
   "default_parameters": {},
   "duration": 42.757155,
   "end_time": "2023-01-20T17:02:47.616898",
   "environment_variables": {},
   "exception": null,
   "input_path": "__notebook__.ipynb",
   "output_path": "__notebook__.ipynb",
   "parameters": {},
   "start_time": "2023-01-20T17:02:04.859743",
   "version": "2.3.4"
  }
 },
 "nbformat": 4,
 "nbformat_minor": 5
}
