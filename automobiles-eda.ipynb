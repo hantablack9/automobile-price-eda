{
 "cells": [
  {
   "cell_type": "markdown",
   "id": "2614544a",
   "metadata": {
    "papermill": {
     "duration": 0.014253,
     "end_time": "2023-01-23T05:24:16.362418",
     "exception": false,
     "start_time": "2023-01-23T05:24:16.348165",
     "status": "completed"
    },
    "tags": []
   },
   "source": [
    "# A. Introduction\n",
    "\n",
    "We will go through the automobile dataset and perform EDA. We will draw insights using pandas, numpy, scipy and seaborn.\n",
    "\n",
    "We will make our observations. We will also make and accept or reject hypotheses as we go along.\n",
    "\n",
    "The preliminary goals of this analysis is to check which variables of the dataset can be used as good markers of pricing. The target end-users of this analysis are the Business Development heads who can use this to better position the product with respect to their competitor brands in the segment."
   ]
  },
  {
   "cell_type": "markdown",
   "id": "d54ba6fb",
   "metadata": {
    "papermill": {
     "duration": 0.015328,
     "end_time": "2023-01-23T05:24:16.389687",
     "exception": false,
     "start_time": "2023-01-23T05:24:16.374359",
     "status": "completed"
    },
    "tags": []
   },
   "source": [
    "# B. Installing packages and loading the dataset"
   ]
  },
  {
   "cell_type": "code",
   "execution_count": 1,
   "id": "3c828f14",
   "metadata": {
    "_cell_guid": "b1076dfc-b9ad-4769-8c92-a6c4dae69d19",
    "_kg_hide-input": true,
    "_uuid": "8f2839f25d086af736a60e9eeb907d3b93b6e0e5",
    "execution": {
     "iopub.execute_input": "2023-01-23T05:24:16.420006Z",
     "iopub.status.busy": "2023-01-23T05:24:16.419015Z",
     "iopub.status.idle": "2023-01-23T05:25:16.697588Z",
     "shell.execute_reply": "2023-01-23T05:25:16.695753Z"
    },
    "papermill": {
     "duration": 60.298241,
     "end_time": "2023-01-23T05:25:16.701189",
     "exception": false,
     "start_time": "2023-01-23T05:24:16.402948",
     "status": "completed"
    },
    "tags": []
   },
   "outputs": [
    {
     "name": "stdout",
     "output_type": "stream",
     "text": [
      "Requirement already satisfied: pandas in /opt/conda/lib/python3.7/site-packages (1.3.5)\r\n",
      "Requirement already satisfied: python-dateutil>=2.7.3 in /opt/conda/lib/python3.7/site-packages (from pandas) (2.8.2)\r\n",
      "Requirement already satisfied: pytz>=2017.3 in /opt/conda/lib/python3.7/site-packages (from pandas) (2022.1)\r\n",
      "Requirement already satisfied: numpy>=1.17.3 in /opt/conda/lib/python3.7/site-packages (from pandas) (1.21.6)\r\n",
      "Requirement already satisfied: six>=1.5 in /opt/conda/lib/python3.7/site-packages (from python-dateutil>=2.7.3->pandas) (1.15.0)\r\n",
      "\u001b[33mWARNING: Running pip as the 'root' user can result in broken permissions and conflicting behaviour with the system package manager. It is recommended to use a virtual environment instead: https://pip.pypa.io/warnings/venv\u001b[0m\u001b[33m\r\n",
      "\u001b[0mRequirement already satisfied: numpy in /opt/conda/lib/python3.7/site-packages (1.21.6)\r\n",
      "\u001b[33mWARNING: Running pip as the 'root' user can result in broken permissions and conflicting behaviour with the system package manager. It is recommended to use a virtual environment instead: https://pip.pypa.io/warnings/venv\u001b[0m\u001b[33m\r\n",
      "\u001b[0mRequirement already satisfied: scipy in /opt/conda/lib/python3.7/site-packages (1.7.3)\r\n",
      "Requirement already satisfied: numpy<1.23.0,>=1.16.5 in /opt/conda/lib/python3.7/site-packages (from scipy) (1.21.6)\r\n",
      "\u001b[33mWARNING: Running pip as the 'root' user can result in broken permissions and conflicting behaviour with the system package manager. It is recommended to use a virtual environment instead: https://pip.pypa.io/warnings/venv\u001b[0m\u001b[33m\r\n",
      "\u001b[0mRequirement already satisfied: seaborn in /opt/conda/lib/python3.7/site-packages (0.11.2)\r\n",
      "Requirement already satisfied: scipy>=1.0 in /opt/conda/lib/python3.7/site-packages (from seaborn) (1.7.3)\r\n",
      "Requirement already satisfied: numpy>=1.15 in /opt/conda/lib/python3.7/site-packages (from seaborn) (1.21.6)\r\n",
      "Requirement already satisfied: matplotlib>=2.2 in /opt/conda/lib/python3.7/site-packages (from seaborn) (3.5.3)\r\n",
      "Requirement already satisfied: pandas>=0.23 in /opt/conda/lib/python3.7/site-packages (from seaborn) (1.3.5)\r\n",
      "Requirement already satisfied: pyparsing>=2.2.1 in /opt/conda/lib/python3.7/site-packages (from matplotlib>=2.2->seaborn) (3.0.9)\r\n",
      "Requirement already satisfied: cycler>=0.10 in /opt/conda/lib/python3.7/site-packages (from matplotlib>=2.2->seaborn) (0.11.0)\r\n",
      "Requirement already satisfied: kiwisolver>=1.0.1 in /opt/conda/lib/python3.7/site-packages (from matplotlib>=2.2->seaborn) (1.4.3)\r\n",
      "Requirement already satisfied: fonttools>=4.22.0 in /opt/conda/lib/python3.7/site-packages (from matplotlib>=2.2->seaborn) (4.33.3)\r\n",
      "Requirement already satisfied: python-dateutil>=2.7 in /opt/conda/lib/python3.7/site-packages (from matplotlib>=2.2->seaborn) (2.8.2)\r\n",
      "Requirement already satisfied: pillow>=6.2.0 in /opt/conda/lib/python3.7/site-packages (from matplotlib>=2.2->seaborn) (9.1.1)\r\n",
      "Requirement already satisfied: packaging>=20.0 in /opt/conda/lib/python3.7/site-packages (from matplotlib>=2.2->seaborn) (22.0)\r\n",
      "Requirement already satisfied: pytz>=2017.3 in /opt/conda/lib/python3.7/site-packages (from pandas>=0.23->seaborn) (2022.1)\r\n",
      "Requirement already satisfied: typing-extensions in /opt/conda/lib/python3.7/site-packages (from kiwisolver>=1.0.1->matplotlib>=2.2->seaborn) (4.1.1)\r\n",
      "Requirement already satisfied: six>=1.5 in /opt/conda/lib/python3.7/site-packages (from python-dateutil>=2.7->matplotlib>=2.2->seaborn) (1.15.0)\r\n",
      "\u001b[33mWARNING: Running pip as the 'root' user can result in broken permissions and conflicting behaviour with the system package manager. It is recommended to use a virtual environment instead: https://pip.pypa.io/warnings/venv\u001b[0m\u001b[33m\r\n",
      "\u001b[0m"
     ]
    }
   ],
   "source": [
    "#install specific version of libraries used in lab\n",
    "!pip install pandas\n",
    "!pip install numpy\n",
    "!pip install scipy\n",
    "!pip install seaborn\n",
    "\n",
    "import os\n",
    "for dirname, _, filenames in os.walk('/kaggle/input/testdataset/automobile.csv'):\n",
    "    for filename in filenames:\n",
    "        print(os.path.join(dirname, filename))\n",
    "        \n",
    "import pandas as pd\n",
    "import numpy as np\n",
    "import matplotlib.pyplot as plt\n",
    "import seaborn as sns\n",
    "%matplotlib inline"
   ]
  },
  {
   "cell_type": "markdown",
   "id": "63b9b8ba",
   "metadata": {
    "papermill": {
     "duration": 0.012526,
     "end_time": "2023-01-23T05:25:16.726595",
     "exception": false,
     "start_time": "2023-01-23T05:25:16.714069",
     "status": "completed"
    },
    "tags": []
   },
   "source": [
    "# C. Now we explore the data\n",
    "\n",
    "### Steps:\n",
    "\n",
    "#### 1. We will use pandas dataframes and numpy to manipulate data into a suitable form.\n",
    "\n",
    "#### 2. We'll see if theres any variable-price pairs with a high Pearson correlation coefficient using the scipy package.\n",
    "\n",
    "#### 3. We will later perform a p-value check for the previously obtained correlation values (which measures repeatability of the correlation coefficients). \n",
    "**Intuition:** If we say, the p-value of the hypothesis (in this instance, the coorelation measure) is 0.05, it means the following. When we repeat an experiment with various samples of the same groups, on an average, we should get get the sample correlation values which are close or equal to the population correlation 95% of the time and only 5% of the time, drastically different. In other words, if we perform this experiment for a number of samples, how likely are we to get a result that's closer to the average?\n",
    "Its a statistical measure of the chance or luck factor which may produce a favorable result to the initial hypothesis thats alternate to the null hypothsis.Check [here](https://www.youtube.com/watch?v=vemZtEM63GY) and [here](https://youtu.be/4XfTpkGe1Kc) for more info.\n",
    "\n",
    "* **Watch Out!** Low-p-values for **false positives** are possible. This is why we need **repeatability** in experiments to see if our variable (for eg, a newly invented drug or engine-location) proves to be statistically significant enough to be declared as influential.\n",
    "\n",
    "#### 4. We will see how to group data-points using our varuiables. This will enable us to perform one-way ANOVA tests.\n",
    "\n",
    "#### 5. Perform a one-way ANOVA test between various groups of the same variable \n",
    " \n",
    " This will help us extract those variables for checking the statistical significance of such a correlation.\n",
    "\n",
    "We'll use ```df.corr()``` to identify these variable pairs.\n"
   ]
  },
  {
   "cell_type": "markdown",
   "id": "304d05fb",
   "metadata": {
    "papermill": {
     "duration": 0.012357,
     "end_time": "2023-01-23T05:25:16.753014",
     "exception": false,
     "start_time": "2023-01-23T05:25:16.740657",
     "status": "completed"
    },
    "tags": []
   },
   "source": [
    "# C.1. We will use pandas dataframes to manipulate data into a suitable form"
   ]
  },
  {
   "cell_type": "markdown",
   "id": "826d9ccb",
   "metadata": {
    "papermill": {
     "duration": 0.013521,
     "end_time": "2023-01-23T05:25:16.779098",
     "exception": false,
     "start_time": "2023-01-23T05:25:16.765577",
     "status": "completed"
    },
    "tags": []
   },
   "source": [
    "Theres 3 types of variables in these dataframes - **int64, float and object.**.\n",
    "\n",
    "Here, the object type variables are of the categorical and nominal variety. We will visualize their distribution with boxplots.\n",
    "The numerical (and hence continuous) variables here of the int64 and float types. We will visualize them using seaborn scatterplots."
   ]
  },
  {
   "cell_type": "code",
   "execution_count": 2,
   "id": "8b5e930f",
   "metadata": {
    "execution": {
     "iopub.execute_input": "2023-01-23T05:25:16.807457Z",
     "iopub.status.busy": "2023-01-23T05:25:16.806690Z",
     "iopub.status.idle": "2023-01-23T05:25:16.832201Z",
     "shell.execute_reply": "2023-01-23T05:25:16.830529Z"
    },
    "papermill": {
     "duration": 0.044057,
     "end_time": "2023-01-23T05:25:16.835765",
     "exception": false,
     "start_time": "2023-01-23T05:25:16.791708",
     "status": "completed"
    },
    "tags": []
   },
   "outputs": [],
   "source": [
    "# list the data types for each column\n",
    "path=\"/kaggle/input/testdataset/automobile.csv\"\n",
    "df = pd.read_csv(path)\n",
    "df.head()\n",
    "typeinfo = pd.DataFrame(df.dtypes)"
   ]
  },
  {
   "cell_type": "code",
   "execution_count": 3,
   "id": "bbe3eff4",
   "metadata": {
    "execution": {
     "iopub.execute_input": "2023-01-23T05:25:16.865432Z",
     "iopub.status.busy": "2023-01-23T05:25:16.864719Z",
     "iopub.status.idle": "2023-01-23T05:25:16.890045Z",
     "shell.execute_reply": "2023-01-23T05:25:16.888424Z"
    },
    "papermill": {
     "duration": 0.046051,
     "end_time": "2023-01-23T05:25:16.894149",
     "exception": false,
     "start_time": "2023-01-23T05:25:16.848098",
     "status": "completed"
    },
    "tags": []
   },
   "outputs": [
    {
     "data": {
      "text/html": [
       "<div>\n",
       "<style scoped>\n",
       "    .dataframe tbody tr th:only-of-type {\n",
       "        vertical-align: middle;\n",
       "    }\n",
       "\n",
       "    .dataframe tbody tr th {\n",
       "        vertical-align: top;\n",
       "    }\n",
       "\n",
       "    .dataframe thead th {\n",
       "        text-align: right;\n",
       "    }\n",
       "</style>\n",
       "<table border=\"1\" class=\"dataframe\">\n",
       "  <thead>\n",
       "    <tr style=\"text-align: right;\">\n",
       "      <th></th>\n",
       "      <th>0</th>\n",
       "    </tr>\n",
       "  </thead>\n",
       "  <tbody>\n",
       "    <tr>\n",
       "      <th>symboling</th>\n",
       "      <td>int64</td>\n",
       "    </tr>\n",
       "    <tr>\n",
       "      <th>normalized-losses</th>\n",
       "      <td>int64</td>\n",
       "    </tr>\n",
       "    <tr>\n",
       "      <th>make</th>\n",
       "      <td>object</td>\n",
       "    </tr>\n",
       "    <tr>\n",
       "      <th>aspiration</th>\n",
       "      <td>object</td>\n",
       "    </tr>\n",
       "    <tr>\n",
       "      <th>num-of-doors</th>\n",
       "      <td>object</td>\n",
       "    </tr>\n",
       "    <tr>\n",
       "      <th>body-style</th>\n",
       "      <td>object</td>\n",
       "    </tr>\n",
       "    <tr>\n",
       "      <th>drive-wheels</th>\n",
       "      <td>object</td>\n",
       "    </tr>\n",
       "    <tr>\n",
       "      <th>engine-location</th>\n",
       "      <td>object</td>\n",
       "    </tr>\n",
       "    <tr>\n",
       "      <th>wheel-base</th>\n",
       "      <td>float64</td>\n",
       "    </tr>\n",
       "    <tr>\n",
       "      <th>length</th>\n",
       "      <td>float64</td>\n",
       "    </tr>\n",
       "    <tr>\n",
       "      <th>width</th>\n",
       "      <td>float64</td>\n",
       "    </tr>\n",
       "    <tr>\n",
       "      <th>height</th>\n",
       "      <td>float64</td>\n",
       "    </tr>\n",
       "    <tr>\n",
       "      <th>curb-weight</th>\n",
       "      <td>int64</td>\n",
       "    </tr>\n",
       "    <tr>\n",
       "      <th>engine-type</th>\n",
       "      <td>object</td>\n",
       "    </tr>\n",
       "    <tr>\n",
       "      <th>num-of-cylinders</th>\n",
       "      <td>object</td>\n",
       "    </tr>\n",
       "    <tr>\n",
       "      <th>engine-size</th>\n",
       "      <td>int64</td>\n",
       "    </tr>\n",
       "    <tr>\n",
       "      <th>fuel-system</th>\n",
       "      <td>object</td>\n",
       "    </tr>\n",
       "    <tr>\n",
       "      <th>bore</th>\n",
       "      <td>float64</td>\n",
       "    </tr>\n",
       "    <tr>\n",
       "      <th>stroke</th>\n",
       "      <td>float64</td>\n",
       "    </tr>\n",
       "    <tr>\n",
       "      <th>compression-ratio</th>\n",
       "      <td>float64</td>\n",
       "    </tr>\n",
       "    <tr>\n",
       "      <th>horsepower</th>\n",
       "      <td>float64</td>\n",
       "    </tr>\n",
       "    <tr>\n",
       "      <th>peak-rpm</th>\n",
       "      <td>float64</td>\n",
       "    </tr>\n",
       "    <tr>\n",
       "      <th>city-mpg</th>\n",
       "      <td>int64</td>\n",
       "    </tr>\n",
       "    <tr>\n",
       "      <th>highway-mpg</th>\n",
       "      <td>int64</td>\n",
       "    </tr>\n",
       "    <tr>\n",
       "      <th>price</th>\n",
       "      <td>float64</td>\n",
       "    </tr>\n",
       "    <tr>\n",
       "      <th>city-L/100km</th>\n",
       "      <td>float64</td>\n",
       "    </tr>\n",
       "    <tr>\n",
       "      <th>horsepower-binned</th>\n",
       "      <td>object</td>\n",
       "    </tr>\n",
       "    <tr>\n",
       "      <th>diesel</th>\n",
       "      <td>int64</td>\n",
       "    </tr>\n",
       "    <tr>\n",
       "      <th>gas</th>\n",
       "      <td>int64</td>\n",
       "    </tr>\n",
       "  </tbody>\n",
       "</table>\n",
       "</div>"
      ],
      "text/plain": [
       "                         0\n",
       "symboling            int64\n",
       "normalized-losses    int64\n",
       "make                object\n",
       "aspiration          object\n",
       "num-of-doors        object\n",
       "body-style          object\n",
       "drive-wheels        object\n",
       "engine-location     object\n",
       "wheel-base         float64\n",
       "length             float64\n",
       "width              float64\n",
       "height             float64\n",
       "curb-weight          int64\n",
       "engine-type         object\n",
       "num-of-cylinders    object\n",
       "engine-size          int64\n",
       "fuel-system         object\n",
       "bore               float64\n",
       "stroke             float64\n",
       "compression-ratio  float64\n",
       "horsepower         float64\n",
       "peak-rpm           float64\n",
       "city-mpg             int64\n",
       "highway-mpg          int64\n",
       "price              float64\n",
       "city-L/100km       float64\n",
       "horsepower-binned   object\n",
       "diesel               int64\n",
       "gas                  int64"
      ]
     },
     "execution_count": 3,
     "metadata": {},
     "output_type": "execute_result"
    }
   ],
   "source": [
    "typeinfo"
   ]
  },
  {
   "cell_type": "code",
   "execution_count": 4,
   "id": "0277f3c5",
   "metadata": {
    "execution": {
     "iopub.execute_input": "2023-01-23T05:25:16.924915Z",
     "iopub.status.busy": "2023-01-23T05:25:16.924436Z",
     "iopub.status.idle": "2023-01-23T05:25:17.133103Z",
     "shell.execute_reply": "2023-01-23T05:25:17.131156Z"
    },
    "papermill": {
     "duration": 0.228503,
     "end_time": "2023-01-23T05:25:17.136010",
     "exception": false,
     "start_time": "2023-01-23T05:25:16.907507",
     "status": "completed"
    },
    "tags": []
   },
   "outputs": [
    {
     "data": {
      "text/html": [
       "<div>\n",
       "<style scoped>\n",
       "    .dataframe tbody tr th:only-of-type {\n",
       "        vertical-align: middle;\n",
       "    }\n",
       "\n",
       "    .dataframe tbody tr th {\n",
       "        vertical-align: top;\n",
       "    }\n",
       "\n",
       "    .dataframe thead th {\n",
       "        text-align: right;\n",
       "    }\n",
       "</style>\n",
       "<table border=\"1\" class=\"dataframe\">\n",
       "  <thead>\n",
       "    <tr style=\"text-align: right;\">\n",
       "      <th></th>\n",
       "      <th>symboling</th>\n",
       "      <th>normalized-losses</th>\n",
       "      <th>wheel-base</th>\n",
       "      <th>length</th>\n",
       "      <th>width</th>\n",
       "      <th>height</th>\n",
       "      <th>curb-weight</th>\n",
       "      <th>engine-size</th>\n",
       "      <th>bore</th>\n",
       "      <th>stroke</th>\n",
       "      <th>compression-ratio</th>\n",
       "      <th>horsepower</th>\n",
       "      <th>peak-rpm</th>\n",
       "      <th>city-mpg</th>\n",
       "      <th>highway-mpg</th>\n",
       "      <th>price</th>\n",
       "      <th>city-L/100km</th>\n",
       "      <th>diesel</th>\n",
       "      <th>gas</th>\n",
       "    </tr>\n",
       "  </thead>\n",
       "  <tbody>\n",
       "    <tr>\n",
       "      <th>count</th>\n",
       "      <td>201.000000</td>\n",
       "      <td>201.00000</td>\n",
       "      <td>201.000000</td>\n",
       "      <td>201.000000</td>\n",
       "      <td>201.000000</td>\n",
       "      <td>201.000000</td>\n",
       "      <td>201.000000</td>\n",
       "      <td>201.000000</td>\n",
       "      <td>201.000000</td>\n",
       "      <td>197.000000</td>\n",
       "      <td>201.000000</td>\n",
       "      <td>201.000000</td>\n",
       "      <td>201.000000</td>\n",
       "      <td>201.000000</td>\n",
       "      <td>201.000000</td>\n",
       "      <td>201.000000</td>\n",
       "      <td>201.000000</td>\n",
       "      <td>201.000000</td>\n",
       "      <td>201.000000</td>\n",
       "    </tr>\n",
       "    <tr>\n",
       "      <th>mean</th>\n",
       "      <td>0.840796</td>\n",
       "      <td>122.00000</td>\n",
       "      <td>98.797015</td>\n",
       "      <td>0.837102</td>\n",
       "      <td>0.915126</td>\n",
       "      <td>53.766667</td>\n",
       "      <td>2555.666667</td>\n",
       "      <td>126.875622</td>\n",
       "      <td>3.330692</td>\n",
       "      <td>3.256904</td>\n",
       "      <td>10.164279</td>\n",
       "      <td>103.405534</td>\n",
       "      <td>5117.665368</td>\n",
       "      <td>25.179104</td>\n",
       "      <td>30.686567</td>\n",
       "      <td>13207.129353</td>\n",
       "      <td>9.944145</td>\n",
       "      <td>0.099502</td>\n",
       "      <td>0.900498</td>\n",
       "    </tr>\n",
       "    <tr>\n",
       "      <th>std</th>\n",
       "      <td>1.254802</td>\n",
       "      <td>31.99625</td>\n",
       "      <td>6.066366</td>\n",
       "      <td>0.059213</td>\n",
       "      <td>0.029187</td>\n",
       "      <td>2.447822</td>\n",
       "      <td>517.296727</td>\n",
       "      <td>41.546834</td>\n",
       "      <td>0.268072</td>\n",
       "      <td>0.319256</td>\n",
       "      <td>4.004965</td>\n",
       "      <td>37.365700</td>\n",
       "      <td>478.113805</td>\n",
       "      <td>6.423220</td>\n",
       "      <td>6.815150</td>\n",
       "      <td>7947.066342</td>\n",
       "      <td>2.534599</td>\n",
       "      <td>0.300083</td>\n",
       "      <td>0.300083</td>\n",
       "    </tr>\n",
       "    <tr>\n",
       "      <th>min</th>\n",
       "      <td>-2.000000</td>\n",
       "      <td>65.00000</td>\n",
       "      <td>86.600000</td>\n",
       "      <td>0.678039</td>\n",
       "      <td>0.837500</td>\n",
       "      <td>47.800000</td>\n",
       "      <td>1488.000000</td>\n",
       "      <td>61.000000</td>\n",
       "      <td>2.540000</td>\n",
       "      <td>2.070000</td>\n",
       "      <td>7.000000</td>\n",
       "      <td>48.000000</td>\n",
       "      <td>4150.000000</td>\n",
       "      <td>13.000000</td>\n",
       "      <td>16.000000</td>\n",
       "      <td>5118.000000</td>\n",
       "      <td>4.795918</td>\n",
       "      <td>0.000000</td>\n",
       "      <td>0.000000</td>\n",
       "    </tr>\n",
       "    <tr>\n",
       "      <th>25%</th>\n",
       "      <td>0.000000</td>\n",
       "      <td>101.00000</td>\n",
       "      <td>94.500000</td>\n",
       "      <td>0.801538</td>\n",
       "      <td>0.890278</td>\n",
       "      <td>52.000000</td>\n",
       "      <td>2169.000000</td>\n",
       "      <td>98.000000</td>\n",
       "      <td>3.150000</td>\n",
       "      <td>3.110000</td>\n",
       "      <td>8.600000</td>\n",
       "      <td>70.000000</td>\n",
       "      <td>4800.000000</td>\n",
       "      <td>19.000000</td>\n",
       "      <td>25.000000</td>\n",
       "      <td>7775.000000</td>\n",
       "      <td>7.833333</td>\n",
       "      <td>0.000000</td>\n",
       "      <td>1.000000</td>\n",
       "    </tr>\n",
       "    <tr>\n",
       "      <th>50%</th>\n",
       "      <td>1.000000</td>\n",
       "      <td>122.00000</td>\n",
       "      <td>97.000000</td>\n",
       "      <td>0.832292</td>\n",
       "      <td>0.909722</td>\n",
       "      <td>54.100000</td>\n",
       "      <td>2414.000000</td>\n",
       "      <td>120.000000</td>\n",
       "      <td>3.310000</td>\n",
       "      <td>3.290000</td>\n",
       "      <td>9.000000</td>\n",
       "      <td>95.000000</td>\n",
       "      <td>5125.369458</td>\n",
       "      <td>24.000000</td>\n",
       "      <td>30.000000</td>\n",
       "      <td>10295.000000</td>\n",
       "      <td>9.791667</td>\n",
       "      <td>0.000000</td>\n",
       "      <td>1.000000</td>\n",
       "    </tr>\n",
       "    <tr>\n",
       "      <th>75%</th>\n",
       "      <td>2.000000</td>\n",
       "      <td>137.00000</td>\n",
       "      <td>102.400000</td>\n",
       "      <td>0.881788</td>\n",
       "      <td>0.925000</td>\n",
       "      <td>55.500000</td>\n",
       "      <td>2926.000000</td>\n",
       "      <td>141.000000</td>\n",
       "      <td>3.580000</td>\n",
       "      <td>3.410000</td>\n",
       "      <td>9.400000</td>\n",
       "      <td>116.000000</td>\n",
       "      <td>5500.000000</td>\n",
       "      <td>30.000000</td>\n",
       "      <td>34.000000</td>\n",
       "      <td>16500.000000</td>\n",
       "      <td>12.368421</td>\n",
       "      <td>0.000000</td>\n",
       "      <td>1.000000</td>\n",
       "    </tr>\n",
       "    <tr>\n",
       "      <th>max</th>\n",
       "      <td>3.000000</td>\n",
       "      <td>256.00000</td>\n",
       "      <td>120.900000</td>\n",
       "      <td>1.000000</td>\n",
       "      <td>1.000000</td>\n",
       "      <td>59.800000</td>\n",
       "      <td>4066.000000</td>\n",
       "      <td>326.000000</td>\n",
       "      <td>3.940000</td>\n",
       "      <td>4.170000</td>\n",
       "      <td>23.000000</td>\n",
       "      <td>262.000000</td>\n",
       "      <td>6600.000000</td>\n",
       "      <td>49.000000</td>\n",
       "      <td>54.000000</td>\n",
       "      <td>45400.000000</td>\n",
       "      <td>18.076923</td>\n",
       "      <td>1.000000</td>\n",
       "      <td>1.000000</td>\n",
       "    </tr>\n",
       "  </tbody>\n",
       "</table>\n",
       "</div>"
      ],
      "text/plain": [
       "        symboling  normalized-losses  wheel-base      length       width  \\\n",
       "count  201.000000          201.00000  201.000000  201.000000  201.000000   \n",
       "mean     0.840796          122.00000   98.797015    0.837102    0.915126   \n",
       "std      1.254802           31.99625    6.066366    0.059213    0.029187   \n",
       "min     -2.000000           65.00000   86.600000    0.678039    0.837500   \n",
       "25%      0.000000          101.00000   94.500000    0.801538    0.890278   \n",
       "50%      1.000000          122.00000   97.000000    0.832292    0.909722   \n",
       "75%      2.000000          137.00000  102.400000    0.881788    0.925000   \n",
       "max      3.000000          256.00000  120.900000    1.000000    1.000000   \n",
       "\n",
       "           height  curb-weight  engine-size        bore      stroke  \\\n",
       "count  201.000000   201.000000   201.000000  201.000000  197.000000   \n",
       "mean    53.766667  2555.666667   126.875622    3.330692    3.256904   \n",
       "std      2.447822   517.296727    41.546834    0.268072    0.319256   \n",
       "min     47.800000  1488.000000    61.000000    2.540000    2.070000   \n",
       "25%     52.000000  2169.000000    98.000000    3.150000    3.110000   \n",
       "50%     54.100000  2414.000000   120.000000    3.310000    3.290000   \n",
       "75%     55.500000  2926.000000   141.000000    3.580000    3.410000   \n",
       "max     59.800000  4066.000000   326.000000    3.940000    4.170000   \n",
       "\n",
       "       compression-ratio  horsepower     peak-rpm    city-mpg  highway-mpg  \\\n",
       "count         201.000000  201.000000   201.000000  201.000000   201.000000   \n",
       "mean           10.164279  103.405534  5117.665368   25.179104    30.686567   \n",
       "std             4.004965   37.365700   478.113805    6.423220     6.815150   \n",
       "min             7.000000   48.000000  4150.000000   13.000000    16.000000   \n",
       "25%             8.600000   70.000000  4800.000000   19.000000    25.000000   \n",
       "50%             9.000000   95.000000  5125.369458   24.000000    30.000000   \n",
       "75%             9.400000  116.000000  5500.000000   30.000000    34.000000   \n",
       "max            23.000000  262.000000  6600.000000   49.000000    54.000000   \n",
       "\n",
       "              price  city-L/100km      diesel         gas  \n",
       "count    201.000000    201.000000  201.000000  201.000000  \n",
       "mean   13207.129353      9.944145    0.099502    0.900498  \n",
       "std     7947.066342      2.534599    0.300083    0.300083  \n",
       "min     5118.000000      4.795918    0.000000    0.000000  \n",
       "25%     7775.000000      7.833333    0.000000    1.000000  \n",
       "50%    10295.000000      9.791667    0.000000    1.000000  \n",
       "75%    16500.000000     12.368421    0.000000    1.000000  \n",
       "max    45400.000000     18.076923    1.000000    1.000000  "
      ]
     },
     "execution_count": 4,
     "metadata": {},
     "output_type": "execute_result"
    }
   ],
   "source": [
    "df.describe() #--------------only numeric (float, int64) variables are considered\n",
    "df.describe(include='all')\n",
    "\n",
    "#uncomment below line to get a statistical summary of the numeric dtypes\n",
    "df.describe(include=['float', 'int64'])"
   ]
  },
  {
   "cell_type": "markdown",
   "id": "fd73e135",
   "metadata": {
    "papermill": {
     "duration": 0.011978,
     "end_time": "2023-01-23T05:25:17.161713",
     "exception": false,
     "start_time": "2023-01-23T05:25:17.149735",
     "status": "completed"
    },
    "tags": []
   },
   "source": [
    "Now we use ```df[[]].corr()``` to see the correlation table for different variables.\n",
    "* A higher corr between two variables indicates that theres a strong linear relationship between the variables."
   ]
  },
  {
   "cell_type": "code",
   "execution_count": 5,
   "id": "bf7e0deb",
   "metadata": {
    "execution": {
     "iopub.execute_input": "2023-01-23T05:25:17.190807Z",
     "iopub.status.busy": "2023-01-23T05:25:17.190303Z",
     "iopub.status.idle": "2023-01-23T05:25:17.200675Z",
     "shell.execute_reply": "2023-01-23T05:25:17.199163Z"
    },
    "papermill": {
     "duration": 0.029705,
     "end_time": "2023-01-23T05:25:17.203710",
     "exception": false,
     "start_time": "2023-01-23T05:25:17.174005",
     "status": "completed"
    },
    "tags": []
   },
   "outputs": [],
   "source": [
    "corr_df = df[['bore','stroke','compression-ratio','horsepower', 'engine-size', 'peak-rpm','price']].corr()"
   ]
  },
  {
   "cell_type": "code",
   "execution_count": 6,
   "id": "8504bb6f",
   "metadata": {
    "_kg_hide-input": true,
    "execution": {
     "iopub.execute_input": "2023-01-23T05:25:17.231718Z",
     "iopub.status.busy": "2023-01-23T05:25:17.231137Z",
     "iopub.status.idle": "2023-01-23T05:25:17.240301Z",
     "shell.execute_reply": "2023-01-23T05:25:17.238467Z"
    },
    "papermill": {
     "duration": 0.027201,
     "end_time": "2023-01-23T05:25:17.243591",
     "exception": false,
     "start_time": "2023-01-23T05:25:17.216390",
     "status": "completed"
    },
    "tags": []
   },
   "outputs": [
    {
     "data": {
      "text/plain": [
       "'\\nfor i, j in corr_df:\\n    if abs (corr_df[[i, j]]) >= 0.6:\\n        print(\"Variables with a high correlation coeff:\", i, j)\\n\\n\\ncorr_df[[\\'bore\\',\\'stroke\\']]\\n'"
      ]
     },
     "execution_count": 6,
     "metadata": {},
     "output_type": "execute_result"
    }
   ],
   "source": [
    "'''\n",
    "for i, j in corr_df:\n",
    "    if abs (corr_df[[i, j]]) >= 0.6:\n",
    "        print(\"Variables with a high correlation coeff:\", i, j)\n",
    "\n",
    "\n",
    "corr_df[['bore','stroke']]\n",
    "'''"
   ]
  },
  {
   "cell_type": "markdown",
   "id": "42e25afd",
   "metadata": {
    "papermill": {
     "duration": 0.013868,
     "end_time": "2023-01-23T05:25:17.271535",
     "exception": false,
     "start_time": "2023-01-23T05:25:17.257667",
     "status": "completed"
    },
    "tags": []
   },
   "source": [
    "# **D. Visualizations**\n",
    "\n",
    "### ***1. Scatter plots***\n",
    "Now we use```sns.regplot(x='', y ='', data = df)``` to see the scatter and visualize the distribultion of variables with respect to the price variable.\n",
    "\n",
    " **Intution:** Tighter scatters mean a higher statistical significance and consequently, higher confidence levels in the correlation coefficient. \n",
    "* A 0.05 p-value or a 95% confidence interval means, if we sample data points randomly we can say, 95% of the time, the regression line (average) will fall within the range of these samples. Refer ```engine-size``` vs ```price``` scatter below.\n",
    "\n",
    "\n",
    "### ***2. Box and whisker plots***\n",
    "\n",
    "Box and whisker plots give us a 5-number summary: **mean, IQR, 25th percentile, 75th percentile, min and max.**\n",
    "We can **visualize the spread of the data** for each variable aginst the price variable. We can also visualize the one-way ANOVA by using these plots."
   ]
  },
  {
   "cell_type": "code",
   "execution_count": 7,
   "id": "448a9cff",
   "metadata": {
    "execution": {
     "iopub.execute_input": "2023-01-23T05:25:17.302771Z",
     "iopub.status.busy": "2023-01-23T05:25:17.301847Z",
     "iopub.status.idle": "2023-01-23T05:25:17.741971Z",
     "shell.execute_reply": "2023-01-23T05:25:17.740032Z"
    },
    "papermill": {
     "duration": 0.460454,
     "end_time": "2023-01-23T05:25:17.745319",
     "exception": false,
     "start_time": "2023-01-23T05:25:17.284865",
     "status": "completed"
    },
    "tags": []
   },
   "outputs": [
    {
     "data": {
      "text/html": [
       "<div>\n",
       "<style scoped>\n",
       "    .dataframe tbody tr th:only-of-type {\n",
       "        vertical-align: middle;\n",
       "    }\n",
       "\n",
       "    .dataframe tbody tr th {\n",
       "        vertical-align: top;\n",
       "    }\n",
       "\n",
       "    .dataframe thead th {\n",
       "        text-align: right;\n",
       "    }\n",
       "</style>\n",
       "<table border=\"1\" class=\"dataframe\">\n",
       "  <thead>\n",
       "    <tr style=\"text-align: right;\">\n",
       "      <th></th>\n",
       "      <th>engine-size</th>\n",
       "      <th>price</th>\n",
       "    </tr>\n",
       "  </thead>\n",
       "  <tbody>\n",
       "    <tr>\n",
       "      <th>engine-size</th>\n",
       "      <td>1.000000</td>\n",
       "      <td>0.872335</td>\n",
       "    </tr>\n",
       "    <tr>\n",
       "      <th>price</th>\n",
       "      <td>0.872335</td>\n",
       "      <td>1.000000</td>\n",
       "    </tr>\n",
       "  </tbody>\n",
       "</table>\n",
       "</div>"
      ],
      "text/plain": [
       "             engine-size     price\n",
       "engine-size     1.000000  0.872335\n",
       "price           0.872335  1.000000"
      ]
     },
     "execution_count": 7,
     "metadata": {},
     "output_type": "execute_result"
    },
    {
     "data": {
      "image/png": "[encoded data removed]",
      "text/plain": [
       "<Figure size 432x288 with 1 Axes>"
      ]
     },
     "metadata": {
      "needs_background": "light"
     },
     "output_type": "display_data"
    }
   ],
   "source": [
    "sns.regplot(x = \"engine-size\", y = \"price\", data=df)\n",
    "plt.ylim(0,)\n",
    "df[[\"engine-size\", \"price\"]].corr()"
   ]
  },
  {
   "cell_type": "markdown",
   "id": "c436c854",
   "metadata": {
    "papermill": {
     "duration": 0.016141,
     "end_time": "2023-01-23T05:25:17.776148",
     "exception": false,
     "start_time": "2023-01-23T05:25:17.760007",
     "status": "completed"
    },
    "tags": []
   },
   "source": [
    "> *engine-size and price* have a strong, positive correlation.\n",
    "\n",
    "> Possible indicator of price"
   ]
  },
  {
   "cell_type": "code",
   "execution_count": 8,
   "id": "b5cbadea",
   "metadata": {
    "execution": {
     "iopub.execute_input": "2023-01-23T05:25:17.806788Z",
     "iopub.status.busy": "2023-01-23T05:25:17.805669Z",
     "iopub.status.idle": "2023-01-23T05:25:18.202626Z",
     "shell.execute_reply": "2023-01-23T05:25:18.200530Z"
    },
    "papermill": {
     "duration": 0.415424,
     "end_time": "2023-01-23T05:25:18.206343",
     "exception": false,
     "start_time": "2023-01-23T05:25:17.790919",
     "status": "completed"
    },
    "tags": []
   },
   "outputs": [
    {
     "data": {
      "text/html": [
       "<div>\n",
       "<style scoped>\n",
       "    .dataframe tbody tr th:only-of-type {\n",
       "        vertical-align: middle;\n",
       "    }\n",
       "\n",
       "    .dataframe tbody tr th {\n",
       "        vertical-align: top;\n",
       "    }\n",
       "\n",
       "    .dataframe thead th {\n",
       "        text-align: right;\n",
       "    }\n",
       "</style>\n",
       "<table border=\"1\" class=\"dataframe\">\n",
       "  <thead>\n",
       "    <tr style=\"text-align: right;\">\n",
       "      <th></th>\n",
       "      <th>highway-mpg</th>\n",
       "      <th>price</th>\n",
       "    </tr>\n",
       "  </thead>\n",
       "  <tbody>\n",
       "    <tr>\n",
       "      <th>highway-mpg</th>\n",
       "      <td>1.000000</td>\n",
       "      <td>-0.704692</td>\n",
       "    </tr>\n",
       "    <tr>\n",
       "      <th>price</th>\n",
       "      <td>-0.704692</td>\n",
       "      <td>1.000000</td>\n",
       "    </tr>\n",
       "  </tbody>\n",
       "</table>\n",
       "</div>"
      ],
      "text/plain": [
       "             highway-mpg     price\n",
       "highway-mpg     1.000000 -0.704692\n",
       "price          -0.704692  1.000000"
      ]
     },
     "execution_count": 8,
     "metadata": {},
     "output_type": "execute_result"
    },
    {
     "data": {
      "image/png": "[encoded data removed]",
      "text/plain": [
       "<Figure size 432x288 with 1 Axes>"
      ]
     },
     "metadata": {
      "needs_background": "light"
     },
     "output_type": "display_data"
    }
   ],
   "source": [
    "sns.regplot(x=\"highway-mpg\", y=\"price\", data=df)\n",
    "df[['highway-mpg','price']].corr()"
   ]
  },
  {
   "cell_type": "markdown",
   "id": "acbfe6f1",
   "metadata": {
    "papermill": {
     "duration": 0.013525,
     "end_time": "2023-01-23T05:25:18.234235",
     "exception": false,
     "start_time": "2023-01-23T05:25:18.220710",
     "status": "completed"
    },
    "tags": []
   },
   "source": [
    "> *highway-mpg and price* have a strong, negative correlation\n",
    "\n",
    "> Possible price indicator"
   ]
  },
  {
   "cell_type": "code",
   "execution_count": 9,
   "id": "a19731e7",
   "metadata": {
    "execution": {
     "iopub.execute_input": "2023-01-23T05:25:18.266853Z",
     "iopub.status.busy": "2023-01-23T05:25:18.266321Z",
     "iopub.status.idle": "2023-01-23T05:25:18.682137Z",
     "shell.execute_reply": "2023-01-23T05:25:18.680507Z"
    },
    "papermill": {
     "duration": 0.436823,
     "end_time": "2023-01-23T05:25:18.685447",
     "exception": false,
     "start_time": "2023-01-23T05:25:18.248624",
     "status": "completed"
    },
    "tags": []
   },
   "outputs": [
    {
     "data": {
      "text/html": [
       "<div>\n",
       "<style scoped>\n",
       "    .dataframe tbody tr th:only-of-type {\n",
       "        vertical-align: middle;\n",
       "    }\n",
       "\n",
       "    .dataframe tbody tr th {\n",
       "        vertical-align: top;\n",
       "    }\n",
       "\n",
       "    .dataframe thead th {\n",
       "        text-align: right;\n",
       "    }\n",
       "</style>\n",
       "<table border=\"1\" class=\"dataframe\">\n",
       "  <thead>\n",
       "    <tr style=\"text-align: right;\">\n",
       "      <th></th>\n",
       "      <th>peak-rpm</th>\n",
       "      <th>price</th>\n",
       "    </tr>\n",
       "  </thead>\n",
       "  <tbody>\n",
       "    <tr>\n",
       "      <th>peak-rpm</th>\n",
       "      <td>1.000000</td>\n",
       "      <td>-0.101616</td>\n",
       "    </tr>\n",
       "    <tr>\n",
       "      <th>price</th>\n",
       "      <td>-0.101616</td>\n",
       "      <td>1.000000</td>\n",
       "    </tr>\n",
       "  </tbody>\n",
       "</table>\n",
       "</div>"
      ],
      "text/plain": [
       "          peak-rpm     price\n",
       "peak-rpm  1.000000 -0.101616\n",
       "price    -0.101616  1.000000"
      ]
     },
     "execution_count": 9,
     "metadata": {},
     "output_type": "execute_result"
    },
    {
     "data": {
      "image/png": "[encoded data removed]",
      "text/plain": [
       "<Figure size 432x288 with 1 Axes>"
      ]
     },
     "metadata": {
      "needs_background": "light"
     },
     "output_type": "display_data"
    }
   ],
   "source": [
    "sns.regplot(x=\"peak-rpm\", y=\"price\", data=df)\n",
    "df[['peak-rpm','price']].corr()"
   ]
  },
  {
   "cell_type": "code",
   "execution_count": 10,
   "id": "2e8f68e8",
   "metadata": {
    "execution": {
     "iopub.execute_input": "2023-01-23T05:25:18.720296Z",
     "iopub.status.busy": "2023-01-23T05:25:18.719757Z",
     "iopub.status.idle": "2023-01-23T05:25:19.135539Z",
     "shell.execute_reply": "2023-01-23T05:25:19.134525Z"
    },
    "papermill": {
     "duration": 0.436857,
     "end_time": "2023-01-23T05:25:19.138347",
     "exception": false,
     "start_time": "2023-01-23T05:25:18.701490",
     "status": "completed"
    },
    "tags": []
   },
   "outputs": [
    {
     "data": {
      "text/html": [
       "<div>\n",
       "<style scoped>\n",
       "    .dataframe tbody tr th:only-of-type {\n",
       "        vertical-align: middle;\n",
       "    }\n",
       "\n",
       "    .dataframe tbody tr th {\n",
       "        vertical-align: top;\n",
       "    }\n",
       "\n",
       "    .dataframe thead th {\n",
       "        text-align: right;\n",
       "    }\n",
       "</style>\n",
       "<table border=\"1\" class=\"dataframe\">\n",
       "  <thead>\n",
       "    <tr style=\"text-align: right;\">\n",
       "      <th></th>\n",
       "      <th>stroke</th>\n",
       "      <th>price</th>\n",
       "    </tr>\n",
       "  </thead>\n",
       "  <tbody>\n",
       "    <tr>\n",
       "      <th>stroke</th>\n",
       "      <td>1.00000</td>\n",
       "      <td>0.08231</td>\n",
       "    </tr>\n",
       "    <tr>\n",
       "      <th>price</th>\n",
       "      <td>0.08231</td>\n",
       "      <td>1.00000</td>\n",
       "    </tr>\n",
       "  </tbody>\n",
       "</table>\n",
       "</div>"
      ],
      "text/plain": [
       "         stroke    price\n",
       "stroke  1.00000  0.08231\n",
       "price   0.08231  1.00000"
      ]
     },
     "execution_count": 10,
     "metadata": {},
     "output_type": "execute_result"
    },
    {
     "data": {
      "image/png": "[encoded data removed]",
      "text/plain": [
       "<Figure size 432x288 with 1 Axes>"
      ]
     },
     "metadata": {
      "needs_background": "light"
     },
     "output_type": "display_data"
    }
   ],
   "source": [
    "sns.regplot(x=\"stroke\", y=\"price\", data=df)\n",
    "df[[\"stroke\",\"price\"]].corr()"
   ]
  },
  {
   "cell_type": "markdown",
   "id": "98b034b6",
   "metadata": {
    "papermill": {
     "duration": 0.016571,
     "end_time": "2023-01-23T05:25:19.171723",
     "exception": false,
     "start_time": "2023-01-23T05:25:19.155152",
     "status": "completed"
    },
    "tags": []
   },
   "source": [
    "> *stroke and price* are positively and weakly correlated"
   ]
  },
  {
   "cell_type": "code",
   "execution_count": 11,
   "id": "ae81ab5e",
   "metadata": {
    "execution": {
     "iopub.execute_input": "2023-01-23T05:25:19.208032Z",
     "iopub.status.busy": "2023-01-23T05:25:19.207595Z",
     "iopub.status.idle": "2023-01-23T05:25:19.555265Z",
     "shell.execute_reply": "2023-01-23T05:25:19.553510Z"
    },
    "papermill": {
     "duration": 0.369991,
     "end_time": "2023-01-23T05:25:19.559257",
     "exception": false,
     "start_time": "2023-01-23T05:25:19.189266",
     "status": "completed"
    },
    "tags": []
   },
   "outputs": [
    {
     "data": {
      "text/plain": [
       "<AxesSubplot:xlabel='body-style', ylabel='price'>"
      ]
     },
     "execution_count": 11,
     "metadata": {},
     "output_type": "execute_result"
    },
    {
     "data": {
      "image/png": "[encoded data removed]",
      "text/plain": [
       "<Figure size 432x288 with 1 Axes>"
      ]
     },
     "metadata": {
      "needs_background": "light"
     },
     "output_type": "display_data"
    }
   ],
   "source": [
    "sns.boxplot(x=\"body-style\", y=\"price\", data=df)"
   ]
  },
  {
   "cell_type": "markdown",
   "id": "0008347c",
   "metadata": {
    "papermill": {
     "duration": 0.016877,
     "end_time": "2023-01-23T05:25:19.591622",
     "exception": false,
     "start_time": "2023-01-23T05:25:19.574745",
     "status": "completed"
    },
    "tags": []
   },
   "source": [
    "> *body-styles* have a significant overlap in their price distributions, so its a bad price-indicator"
   ]
  },
  {
   "cell_type": "code",
   "execution_count": 12,
   "id": "08d06a62",
   "metadata": {
    "execution": {
     "iopub.execute_input": "2023-01-23T05:25:19.628639Z",
     "iopub.status.busy": "2023-01-23T05:25:19.628000Z",
     "iopub.status.idle": "2023-01-23T05:25:19.887317Z",
     "shell.execute_reply": "2023-01-23T05:25:19.886318Z"
    },
    "papermill": {
     "duration": 0.283021,
     "end_time": "2023-01-23T05:25:19.890767",
     "exception": false,
     "start_time": "2023-01-23T05:25:19.607746",
     "status": "completed"
    },
    "tags": []
   },
   "outputs": [
    {
     "data": {
      "text/plain": [
       "<AxesSubplot:xlabel='engine-location', ylabel='price'>"
      ]
     },
     "execution_count": 12,
     "metadata": {},
     "output_type": "execute_result"
    },
    {
     "data": {
      "image/png": "[encoded data removed]",
      "text/plain": [
       "<Figure size 432x288 with 1 Axes>"
      ]
     },
     "metadata": {
      "needs_background": "light"
     },
     "output_type": "display_data"
    }
   ],
   "source": [
    "sns.boxplot(x=\"engine-location\", y=\"price\", data=df)"
   ]
  },
  {
   "cell_type": "markdown",
   "id": "eb47f449",
   "metadata": {
    "papermill": {
     "duration": 0.016945,
     "end_time": "2023-01-23T05:25:19.925027",
     "exception": false,
     "start_time": "2023-01-23T05:25:19.908082",
     "status": "completed"
    },
    "tags": []
   },
   "source": [
    "> *engine-location* groups have a significant demarcation in their price distributions. So this could be a potential price indicator.\n",
    "> We explore further."
   ]
  },
  {
   "cell_type": "code",
   "execution_count": 13,
   "id": "d94582fb",
   "metadata": {
    "execution": {
     "iopub.execute_input": "2023-01-23T05:25:19.962626Z",
     "iopub.status.busy": "2023-01-23T05:25:19.961918Z",
     "iopub.status.idle": "2023-01-23T05:25:19.975644Z",
     "shell.execute_reply": "2023-01-23T05:25:19.974301Z"
    },
    "papermill": {
     "duration": 0.035225,
     "end_time": "2023-01-23T05:25:19.978245",
     "exception": false,
     "start_time": "2023-01-23T05:25:19.943020",
     "status": "completed"
    },
    "tags": []
   },
   "outputs": [
    {
     "data": {
      "text/html": [
       "<div>\n",
       "<style scoped>\n",
       "    .dataframe tbody tr th:only-of-type {\n",
       "        vertical-align: middle;\n",
       "    }\n",
       "\n",
       "    .dataframe tbody tr th {\n",
       "        vertical-align: top;\n",
       "    }\n",
       "\n",
       "    .dataframe thead th {\n",
       "        text-align: right;\n",
       "    }\n",
       "</style>\n",
       "<table border=\"1\" class=\"dataframe\">\n",
       "  <thead>\n",
       "    <tr style=\"text-align: right;\">\n",
       "      <th></th>\n",
       "      <th>value_counts</th>\n",
       "    </tr>\n",
       "    <tr>\n",
       "      <th>engine-location</th>\n",
       "      <th></th>\n",
       "    </tr>\n",
       "  </thead>\n",
       "  <tbody>\n",
       "    <tr>\n",
       "      <th>front</th>\n",
       "      <td>198</td>\n",
       "    </tr>\n",
       "    <tr>\n",
       "      <th>rear</th>\n",
       "      <td>3</td>\n",
       "    </tr>\n",
       "  </tbody>\n",
       "</table>\n",
       "</div>"
      ],
      "text/plain": [
       "                 value_counts\n",
       "engine-location              \n",
       "front                     198\n",
       "rear                        3"
      ]
     },
     "execution_count": 13,
     "metadata": {},
     "output_type": "execute_result"
    }
   ],
   "source": [
    "# engine-location as variable\n",
    "engine_loc_counts = df['engine-location'].value_counts().to_frame()\n",
    "engine_loc_counts.rename(columns={'engine-location': 'value_counts'}, inplace=True)\n",
    "engine_loc_counts.index.name = 'engine-location'\n",
    "engine_loc_counts.head(10)"
   ]
  },
  {
   "cell_type": "markdown",
   "id": "5ea4ef5e",
   "metadata": {
    "papermill": {
     "duration": 0.015396,
     "end_time": "2023-01-23T05:25:20.009177",
     "exception": false,
     "start_time": "2023-01-23T05:25:19.993781",
     "status": "completed"
    },
    "tags": []
   },
   "source": [
    "> We now see that *engine-location* is a bad price indicator. The distribution is obviously skewed and there arent enough obserbations in *rear* group for us to draw any useful conclusions. (refer p-value and repeatability)"
   ]
  },
  {
   "cell_type": "markdown",
   "id": "3253d376",
   "metadata": {
    "papermill": {
     "duration": 0.015254,
     "end_time": "2023-01-23T05:25:20.040184",
     "exception": false,
     "start_time": "2023-01-23T05:25:20.024930",
     "status": "completed"
    },
    "tags": []
   },
   "source": [
    "> "
   ]
  },
  {
   "cell_type": "code",
   "execution_count": 14,
   "id": "85bca26d",
   "metadata": {
    "execution": {
     "iopub.execute_input": "2023-01-23T05:25:20.075800Z",
     "iopub.status.busy": "2023-01-23T05:25:20.075002Z",
     "iopub.status.idle": "2023-01-23T05:25:20.336147Z",
     "shell.execute_reply": "2023-01-23T05:25:20.334597Z"
    },
    "papermill": {
     "duration": 0.282293,
     "end_time": "2023-01-23T05:25:20.338904",
     "exception": false,
     "start_time": "2023-01-23T05:25:20.056611",
     "status": "completed"
    },
    "tags": []
   },
   "outputs": [
    {
     "data": {
      "text/plain": [
       "<AxesSubplot:xlabel='drive-wheels', ylabel='price'>"
      ]
     },
     "execution_count": 14,
     "metadata": {},
     "output_type": "execute_result"
    },
    {
     "data": {
      "image/png": "[encoded data removed]",
      "text/plain": [
       "<Figure size 432x288 with 1 Axes>"
      ]
     },
     "metadata": {
      "needs_background": "light"
     },
     "output_type": "display_data"
    }
   ],
   "source": [
    "sns.boxplot(x=\"drive-wheels\", y=\"price\", data=df)\n",
    "#Refer to ANOVA below"
   ]
  },
  {
   "cell_type": "code",
   "execution_count": 15,
   "id": "8ed54a84",
   "metadata": {
    "execution": {
     "iopub.execute_input": "2023-01-23T05:25:20.377388Z",
     "iopub.status.busy": "2023-01-23T05:25:20.376907Z",
     "iopub.status.idle": "2023-01-23T05:25:20.392703Z",
     "shell.execute_reply": "2023-01-23T05:25:20.390768Z"
    },
    "papermill": {
     "duration": 0.03946,
     "end_time": "2023-01-23T05:25:20.395641",
     "exception": false,
     "start_time": "2023-01-23T05:25:20.356181",
     "status": "completed"
    },
    "tags": []
   },
   "outputs": [
    {
     "data": {
      "text/html": [
       "<div>\n",
       "<style scoped>\n",
       "    .dataframe tbody tr th:only-of-type {\n",
       "        vertical-align: middle;\n",
       "    }\n",
       "\n",
       "    .dataframe tbody tr th {\n",
       "        vertical-align: top;\n",
       "    }\n",
       "\n",
       "    .dataframe thead th {\n",
       "        text-align: right;\n",
       "    }\n",
       "</style>\n",
       "<table border=\"1\" class=\"dataframe\">\n",
       "  <thead>\n",
       "    <tr style=\"text-align: right;\">\n",
       "      <th></th>\n",
       "      <th>value_counts</th>\n",
       "    </tr>\n",
       "    <tr>\n",
       "      <th>drive-wheels</th>\n",
       "      <th></th>\n",
       "    </tr>\n",
       "  </thead>\n",
       "  <tbody>\n",
       "    <tr>\n",
       "      <th>fwd</th>\n",
       "      <td>118</td>\n",
       "    </tr>\n",
       "    <tr>\n",
       "      <th>rwd</th>\n",
       "      <td>75</td>\n",
       "    </tr>\n",
       "    <tr>\n",
       "      <th>4wd</th>\n",
       "      <td>8</td>\n",
       "    </tr>\n",
       "  </tbody>\n",
       "</table>\n",
       "</div>"
      ],
      "text/plain": [
       "              value_counts\n",
       "drive-wheels              \n",
       "fwd                    118\n",
       "rwd                     75\n",
       "4wd                      8"
      ]
     },
     "execution_count": 15,
     "metadata": {},
     "output_type": "execute_result"
    }
   ],
   "source": [
    "drive_wheels_counts = df['drive-wheels'].value_counts().to_frame()\n",
    "drive_wheels_counts.rename(columns={'drive-wheels': 'value_counts'}, inplace=True)\n",
    "drive_wheels_counts.index.name = 'drive-wheels'\n",
    "drive_wheels_counts"
   ]
  },
  {
   "cell_type": "markdown",
   "id": "b077d292",
   "metadata": {
    "papermill": {
     "duration": 0.015278,
     "end_time": "2023-01-23T05:25:20.426886",
     "exception": false,
     "start_time": "2023-01-23T05:25:20.411608",
     "status": "completed"
    },
    "tags": []
   },
   "source": [
    "### Grouping basics\n",
    "\n",
    "The \"groupby\" method groups data by different different categorial variables.\n",
    "For example, let's group by the variable \"drive-wheels\". We see that there are 3 different categories of drive wheels."
   ]
  },
  {
   "cell_type": "code",
   "execution_count": 16,
   "id": "55f6efe9",
   "metadata": {
    "execution": {
     "iopub.execute_input": "2023-01-23T05:25:20.464494Z",
     "iopub.status.busy": "2023-01-23T05:25:20.463444Z",
     "iopub.status.idle": "2023-01-23T05:25:20.473974Z",
     "shell.execute_reply": "2023-01-23T05:25:20.472361Z"
    },
    "papermill": {
     "duration": 0.03398,
     "end_time": "2023-01-23T05:25:20.477033",
     "exception": false,
     "start_time": "2023-01-23T05:25:20.443053",
     "status": "completed"
    },
    "tags": []
   },
   "outputs": [
    {
     "data": {
      "text/plain": [
       "array(['rwd', 'fwd', '4wd'], dtype=object)"
      ]
     },
     "execution_count": 16,
     "metadata": {},
     "output_type": "execute_result"
    }
   ],
   "source": [
    "df['drive-wheels'].unique()"
   ]
  },
  {
   "cell_type": "markdown",
   "id": "6c136a56",
   "metadata": {
    "papermill": {
     "duration": 0.015848,
     "end_time": "2023-01-23T05:25:20.511979",
     "exception": false,
     "start_time": "2023-01-23T05:25:20.496131",
     "status": "completed"
    },
    "tags": []
   },
   "source": [
    "If we want to know, on average, which type of drive wheel is most valuable, we can group ```drive-wheels``` based on a variable, let's say, ```body-style``` and then average them.\n",
    "\n",
    "We can select the columns ```drive-wheels```, ``` body-style``` and ```price```, then assign it to the variable \"df_group_one\"."
   ]
  },
  {
   "cell_type": "code",
   "execution_count": 17,
   "id": "0f735146",
   "metadata": {
    "execution": {
     "iopub.execute_input": "2023-01-23T05:25:20.547159Z",
     "iopub.status.busy": "2023-01-23T05:25:20.546575Z",
     "iopub.status.idle": "2023-01-23T05:25:20.568015Z",
     "shell.execute_reply": "2023-01-23T05:25:20.566491Z"
    },
    "papermill": {
     "duration": 0.042872,
     "end_time": "2023-01-23T05:25:20.571011",
     "exception": false,
     "start_time": "2023-01-23T05:25:20.528139",
     "status": "completed"
    },
    "tags": []
   },
   "outputs": [
    {
     "data": {
      "text/html": [
       "<div>\n",
       "<style scoped>\n",
       "    .dataframe tbody tr th:only-of-type {\n",
       "        vertical-align: middle;\n",
       "    }\n",
       "\n",
       "    .dataframe tbody tr th {\n",
       "        vertical-align: top;\n",
       "    }\n",
       "\n",
       "    .dataframe thead th {\n",
       "        text-align: right;\n",
       "    }\n",
       "</style>\n",
       "<table border=\"1\" class=\"dataframe\">\n",
       "  <thead>\n",
       "    <tr style=\"text-align: right;\">\n",
       "      <th></th>\n",
       "      <th>price</th>\n",
       "    </tr>\n",
       "    <tr>\n",
       "      <th>body-style</th>\n",
       "      <th></th>\n",
       "    </tr>\n",
       "  </thead>\n",
       "  <tbody>\n",
       "    <tr>\n",
       "      <th>convertible</th>\n",
       "      <td>21890.500000</td>\n",
       "    </tr>\n",
       "    <tr>\n",
       "      <th>hardtop</th>\n",
       "      <td>22208.500000</td>\n",
       "    </tr>\n",
       "    <tr>\n",
       "      <th>hatchback</th>\n",
       "      <td>9957.441176</td>\n",
       "    </tr>\n",
       "    <tr>\n",
       "      <th>sedan</th>\n",
       "      <td>14459.755319</td>\n",
       "    </tr>\n",
       "    <tr>\n",
       "      <th>wagon</th>\n",
       "      <td>12371.960000</td>\n",
       "    </tr>\n",
       "  </tbody>\n",
       "</table>\n",
       "</div>"
      ],
      "text/plain": [
       "                    price\n",
       "body-style               \n",
       "convertible  21890.500000\n",
       "hardtop      22208.500000\n",
       "hatchback     9957.441176\n",
       "sedan        14459.755319\n",
       "wagon        12371.960000"
      ]
     },
     "execution_count": 17,
     "metadata": {},
     "output_type": "execute_result"
    }
   ],
   "source": [
    "df_group_one = df[['drive-wheels','body-style','price']]\n",
    "\n",
    "df_group_body_style = df_group_one.groupby(['body-style'],as_index=True).mean()\n",
    "df_group_body_style"
   ]
  },
  {
   "cell_type": "code",
   "execution_count": 18,
   "id": "524e6e9d",
   "metadata": {
    "execution": {
     "iopub.execute_input": "2023-01-23T05:25:20.608111Z",
     "iopub.status.busy": "2023-01-23T05:25:20.607260Z",
     "iopub.status.idle": "2023-01-23T05:25:20.624684Z",
     "shell.execute_reply": "2023-01-23T05:25:20.622702Z"
    },
    "papermill": {
     "duration": 0.038482,
     "end_time": "2023-01-23T05:25:20.627567",
     "exception": false,
     "start_time": "2023-01-23T05:25:20.589085",
     "status": "completed"
    },
    "tags": []
   },
   "outputs": [
    {
     "data": {
      "text/html": [
       "<div>\n",
       "<style scoped>\n",
       "    .dataframe tbody tr th:only-of-type {\n",
       "        vertical-align: middle;\n",
       "    }\n",
       "\n",
       "    .dataframe tbody tr th {\n",
       "        vertical-align: top;\n",
       "    }\n",
       "\n",
       "    .dataframe thead th {\n",
       "        text-align: right;\n",
       "    }\n",
       "</style>\n",
       "<table border=\"1\" class=\"dataframe\">\n",
       "  <thead>\n",
       "    <tr style=\"text-align: right;\">\n",
       "      <th></th>\n",
       "      <th>price</th>\n",
       "    </tr>\n",
       "    <tr>\n",
       "      <th>drive-wheels</th>\n",
       "      <th></th>\n",
       "    </tr>\n",
       "  </thead>\n",
       "  <tbody>\n",
       "    <tr>\n",
       "      <th>4wd</th>\n",
       "      <td>10241.000000</td>\n",
       "    </tr>\n",
       "    <tr>\n",
       "      <th>fwd</th>\n",
       "      <td>9244.779661</td>\n",
       "    </tr>\n",
       "    <tr>\n",
       "      <th>rwd</th>\n",
       "      <td>19757.613333</td>\n",
       "    </tr>\n",
       "  </tbody>\n",
       "</table>\n",
       "</div>"
      ],
      "text/plain": [
       "                     price\n",
       "drive-wheels              \n",
       "4wd           10241.000000\n",
       "fwd            9244.779661\n",
       "rwd           19757.613333"
      ]
     },
     "execution_count": 18,
     "metadata": {},
     "output_type": "execute_result"
    }
   ],
   "source": [
    "# grouping results\n",
    "df_group_drive_wheels = df_group_one.groupby(['drive-wheels'],as_index=True).mean()\n",
    "df_group_drive_wheels"
   ]
  },
  {
   "cell_type": "markdown",
   "id": "23f2e345",
   "metadata": {
    "papermill": {
     "duration": 0.016555,
     "end_time": "2023-01-23T05:25:20.660643",
     "exception": false,
     "start_time": "2023-01-23T05:25:20.644088",
     "status": "completed"
    },
    "tags": []
   },
   "source": [
    "Pivot tables are useful to see the grouped data."
   ]
  },
  {
   "cell_type": "code",
   "execution_count": 19,
   "id": "1649c61d",
   "metadata": {
    "execution": {
     "iopub.execute_input": "2023-01-23T05:25:20.699702Z",
     "iopub.status.busy": "2023-01-23T05:25:20.698999Z",
     "iopub.status.idle": "2023-01-23T05:25:20.724433Z",
     "shell.execute_reply": "2023-01-23T05:25:20.722643Z"
    },
    "papermill": {
     "duration": 0.04923,
     "end_time": "2023-01-23T05:25:20.727359",
     "exception": false,
     "start_time": "2023-01-23T05:25:20.678129",
     "status": "completed"
    },
    "tags": []
   },
   "outputs": [
    {
     "data": {
      "text/html": [
       "<div>\n",
       "<style scoped>\n",
       "    .dataframe tbody tr th:only-of-type {\n",
       "        vertical-align: middle;\n",
       "    }\n",
       "\n",
       "    .dataframe tbody tr th {\n",
       "        vertical-align: top;\n",
       "    }\n",
       "\n",
       "    .dataframe thead th {\n",
       "        text-align: right;\n",
       "    }\n",
       "</style>\n",
       "<table border=\"1\" class=\"dataframe\">\n",
       "  <thead>\n",
       "    <tr style=\"text-align: right;\">\n",
       "      <th></th>\n",
       "      <th>drive-wheels</th>\n",
       "      <th>body-style</th>\n",
       "      <th>price</th>\n",
       "    </tr>\n",
       "  </thead>\n",
       "  <tbody>\n",
       "    <tr>\n",
       "      <th>0</th>\n",
       "      <td>4wd</td>\n",
       "      <td>hatchback</td>\n",
       "      <td>7603.000000</td>\n",
       "    </tr>\n",
       "    <tr>\n",
       "      <th>1</th>\n",
       "      <td>4wd</td>\n",
       "      <td>sedan</td>\n",
       "      <td>12647.333333</td>\n",
       "    </tr>\n",
       "    <tr>\n",
       "      <th>2</th>\n",
       "      <td>4wd</td>\n",
       "      <td>wagon</td>\n",
       "      <td>9095.750000</td>\n",
       "    </tr>\n",
       "    <tr>\n",
       "      <th>3</th>\n",
       "      <td>fwd</td>\n",
       "      <td>convertible</td>\n",
       "      <td>11595.000000</td>\n",
       "    </tr>\n",
       "    <tr>\n",
       "      <th>4</th>\n",
       "      <td>fwd</td>\n",
       "      <td>hardtop</td>\n",
       "      <td>8249.000000</td>\n",
       "    </tr>\n",
       "    <tr>\n",
       "      <th>5</th>\n",
       "      <td>fwd</td>\n",
       "      <td>hatchback</td>\n",
       "      <td>8396.387755</td>\n",
       "    </tr>\n",
       "    <tr>\n",
       "      <th>6</th>\n",
       "      <td>fwd</td>\n",
       "      <td>sedan</td>\n",
       "      <td>9811.800000</td>\n",
       "    </tr>\n",
       "    <tr>\n",
       "      <th>7</th>\n",
       "      <td>fwd</td>\n",
       "      <td>wagon</td>\n",
       "      <td>9997.333333</td>\n",
       "    </tr>\n",
       "    <tr>\n",
       "      <th>8</th>\n",
       "      <td>rwd</td>\n",
       "      <td>convertible</td>\n",
       "      <td>23949.600000</td>\n",
       "    </tr>\n",
       "    <tr>\n",
       "      <th>9</th>\n",
       "      <td>rwd</td>\n",
       "      <td>hardtop</td>\n",
       "      <td>24202.714286</td>\n",
       "    </tr>\n",
       "    <tr>\n",
       "      <th>10</th>\n",
       "      <td>rwd</td>\n",
       "      <td>hatchback</td>\n",
       "      <td>14337.777778</td>\n",
       "    </tr>\n",
       "    <tr>\n",
       "      <th>11</th>\n",
       "      <td>rwd</td>\n",
       "      <td>sedan</td>\n",
       "      <td>21711.833333</td>\n",
       "    </tr>\n",
       "    <tr>\n",
       "      <th>12</th>\n",
       "      <td>rwd</td>\n",
       "      <td>wagon</td>\n",
       "      <td>16994.222222</td>\n",
       "    </tr>\n",
       "  </tbody>\n",
       "</table>\n",
       "</div>"
      ],
      "text/plain": [
       "   drive-wheels   body-style         price\n",
       "0           4wd    hatchback   7603.000000\n",
       "1           4wd        sedan  12647.333333\n",
       "2           4wd        wagon   9095.750000\n",
       "3           fwd  convertible  11595.000000\n",
       "4           fwd      hardtop   8249.000000\n",
       "5           fwd    hatchback   8396.387755\n",
       "6           fwd        sedan   9811.800000\n",
       "7           fwd        wagon   9997.333333\n",
       "8           rwd  convertible  23949.600000\n",
       "9           rwd      hardtop  24202.714286\n",
       "10          rwd    hatchback  14337.777778\n",
       "11          rwd        sedan  21711.833333\n",
       "12          rwd        wagon  16994.222222"
      ]
     },
     "execution_count": 19,
     "metadata": {},
     "output_type": "execute_result"
    }
   ],
   "source": [
    "# grouping results\n",
    "df_gptest = df[['drive-wheels','body-style','price']]\n",
    "grouped_test1 = df_gptest.groupby(['drive-wheels','body-style'],as_index= False).mean()\n",
    "grouped_test1"
   ]
  },
  {
   "cell_type": "code",
   "execution_count": 20,
   "id": "b8396f6e",
   "metadata": {
    "execution": {
     "iopub.execute_input": "2023-01-23T05:25:20.762964Z",
     "iopub.status.busy": "2023-01-23T05:25:20.762513Z",
     "iopub.status.idle": "2023-01-23T05:25:20.786047Z",
     "shell.execute_reply": "2023-01-23T05:25:20.784861Z"
    },
    "papermill": {
     "duration": 0.044538,
     "end_time": "2023-01-23T05:25:20.788939",
     "exception": false,
     "start_time": "2023-01-23T05:25:20.744401",
     "status": "completed"
    },
    "tags": []
   },
   "outputs": [
    {
     "data": {
      "text/html": [
       "<div>\n",
       "<style scoped>\n",
       "    .dataframe tbody tr th:only-of-type {\n",
       "        vertical-align: middle;\n",
       "    }\n",
       "\n",
       "    .dataframe tbody tr th {\n",
       "        vertical-align: top;\n",
       "    }\n",
       "\n",
       "    .dataframe thead tr th {\n",
       "        text-align: left;\n",
       "    }\n",
       "\n",
       "    .dataframe thead tr:last-of-type th {\n",
       "        text-align: right;\n",
       "    }\n",
       "</style>\n",
       "<table border=\"1\" class=\"dataframe\">\n",
       "  <thead>\n",
       "    <tr>\n",
       "      <th></th>\n",
       "      <th colspan=\"5\" halign=\"left\">price</th>\n",
       "    </tr>\n",
       "    <tr>\n",
       "      <th>body-style</th>\n",
       "      <th>convertible</th>\n",
       "      <th>hardtop</th>\n",
       "      <th>hatchback</th>\n",
       "      <th>sedan</th>\n",
       "      <th>wagon</th>\n",
       "    </tr>\n",
       "    <tr>\n",
       "      <th>drive-wheels</th>\n",
       "      <th></th>\n",
       "      <th></th>\n",
       "      <th></th>\n",
       "      <th></th>\n",
       "      <th></th>\n",
       "    </tr>\n",
       "  </thead>\n",
       "  <tbody>\n",
       "    <tr>\n",
       "      <th>4wd</th>\n",
       "      <td>0.0</td>\n",
       "      <td>0.000000</td>\n",
       "      <td>7603.000000</td>\n",
       "      <td>12647.333333</td>\n",
       "      <td>9095.750000</td>\n",
       "    </tr>\n",
       "    <tr>\n",
       "      <th>fwd</th>\n",
       "      <td>11595.0</td>\n",
       "      <td>8249.000000</td>\n",
       "      <td>8396.387755</td>\n",
       "      <td>9811.800000</td>\n",
       "      <td>9997.333333</td>\n",
       "    </tr>\n",
       "    <tr>\n",
       "      <th>rwd</th>\n",
       "      <td>23949.6</td>\n",
       "      <td>24202.714286</td>\n",
       "      <td>14337.777778</td>\n",
       "      <td>21711.833333</td>\n",
       "      <td>16994.222222</td>\n",
       "    </tr>\n",
       "  </tbody>\n",
       "</table>\n",
       "</div>"
      ],
      "text/plain": [
       "                   price                                            \\\n",
       "body-style   convertible       hardtop     hatchback         sedan   \n",
       "drive-wheels                                                         \n",
       "4wd                  0.0      0.000000   7603.000000  12647.333333   \n",
       "fwd              11595.0   8249.000000   8396.387755   9811.800000   \n",
       "rwd              23949.6  24202.714286  14337.777778  21711.833333   \n",
       "\n",
       "                            \n",
       "body-style           wagon  \n",
       "drive-wheels                \n",
       "4wd            9095.750000  \n",
       "fwd            9997.333333  \n",
       "rwd           16994.222222  "
      ]
     },
     "execution_count": 20,
     "metadata": {},
     "output_type": "execute_result"
    }
   ],
   "source": [
    "grouped_pivot = grouped_test1.pivot(index='drive-wheels',columns='body-style').fillna(0)\n",
    "grouped_pivot"
   ]
  },
  {
   "cell_type": "code",
   "execution_count": 21,
   "id": "8927eab1",
   "metadata": {
    "execution": {
     "iopub.execute_input": "2023-01-23T05:25:20.827564Z",
     "iopub.status.busy": "2023-01-23T05:25:20.826190Z",
     "iopub.status.idle": "2023-01-23T05:25:20.852874Z",
     "shell.execute_reply": "2023-01-23T05:25:20.851277Z"
    },
    "papermill": {
     "duration": 0.048892,
     "end_time": "2023-01-23T05:25:20.856114",
     "exception": false,
     "start_time": "2023-01-23T05:25:20.807222",
     "status": "completed"
    },
    "tags": []
   },
   "outputs": [
    {
     "data": {
      "text/html": [
       "<div>\n",
       "<style scoped>\n",
       "    .dataframe tbody tr th:only-of-type {\n",
       "        vertical-align: middle;\n",
       "    }\n",
       "\n",
       "    .dataframe tbody tr th {\n",
       "        vertical-align: top;\n",
       "    }\n",
       "\n",
       "    .dataframe thead tr th {\n",
       "        text-align: left;\n",
       "    }\n",
       "\n",
       "    .dataframe thead tr:last-of-type th {\n",
       "        text-align: right;\n",
       "    }\n",
       "</style>\n",
       "<table border=\"1\" class=\"dataframe\">\n",
       "  <thead>\n",
       "    <tr>\n",
       "      <th></th>\n",
       "      <th colspan=\"3\" halign=\"left\">price</th>\n",
       "    </tr>\n",
       "    <tr>\n",
       "      <th>drive-wheels</th>\n",
       "      <th>4wd</th>\n",
       "      <th>fwd</th>\n",
       "      <th>rwd</th>\n",
       "    </tr>\n",
       "    <tr>\n",
       "      <th>body-style</th>\n",
       "      <th></th>\n",
       "      <th></th>\n",
       "      <th></th>\n",
       "    </tr>\n",
       "  </thead>\n",
       "  <tbody>\n",
       "    <tr>\n",
       "      <th>convertible</th>\n",
       "      <td>0.000000</td>\n",
       "      <td>11595.000000</td>\n",
       "      <td>23949.600000</td>\n",
       "    </tr>\n",
       "    <tr>\n",
       "      <th>hardtop</th>\n",
       "      <td>0.000000</td>\n",
       "      <td>8249.000000</td>\n",
       "      <td>24202.714286</td>\n",
       "    </tr>\n",
       "    <tr>\n",
       "      <th>hatchback</th>\n",
       "      <td>7603.000000</td>\n",
       "      <td>8396.387755</td>\n",
       "      <td>14337.777778</td>\n",
       "    </tr>\n",
       "    <tr>\n",
       "      <th>sedan</th>\n",
       "      <td>12647.333333</td>\n",
       "      <td>9811.800000</td>\n",
       "      <td>21711.833333</td>\n",
       "    </tr>\n",
       "    <tr>\n",
       "      <th>wagon</th>\n",
       "      <td>9095.750000</td>\n",
       "      <td>9997.333333</td>\n",
       "      <td>16994.222222</td>\n",
       "    </tr>\n",
       "  </tbody>\n",
       "</table>\n",
       "</div>"
      ],
      "text/plain": [
       "                     price                            \n",
       "drive-wheels           4wd           fwd           rwd\n",
       "body-style                                            \n",
       "convertible       0.000000  11595.000000  23949.600000\n",
       "hardtop           0.000000   8249.000000  24202.714286\n",
       "hatchback      7603.000000   8396.387755  14337.777778\n",
       "sedan         12647.333333   9811.800000  21711.833333\n",
       "wagon          9095.750000   9997.333333  16994.222222"
      ]
     },
     "execution_count": 21,
     "metadata": {},
     "output_type": "execute_result"
    }
   ],
   "source": [
    "df_body = df[[\"body-style\", 'drive-wheels', \"price\"]]\n",
    "\n",
    "df_body = df_body.groupby([\"body-style\", 'drive-wheels'], as_index = 0).mean()\n",
    "\n",
    "df_body_pivot = df_body.pivot(index='body-style', columns='drive-wheels').fillna(0)\n",
    "df_body_pivot\n"
   ]
  },
  {
   "cell_type": "code",
   "execution_count": 22,
   "id": "fbd6b37d",
   "metadata": {
    "execution": {
     "iopub.execute_input": "2023-01-23T05:25:20.892979Z",
     "iopub.status.busy": "2023-01-23T05:25:20.892529Z",
     "iopub.status.idle": "2023-01-23T05:25:21.175323Z",
     "shell.execute_reply": "2023-01-23T05:25:21.173797Z"
    },
    "papermill": {
     "duration": 0.304477,
     "end_time": "2023-01-23T05:25:21.178083",
     "exception": false,
     "start_time": "2023-01-23T05:25:20.873606",
     "status": "completed"
    },
    "tags": []
   },
   "outputs": [
    {
     "data": {
      "image/png": "[encoded data removed]",
      "text/plain": [
       "<Figure size 432x288 with 2 Axes>"
      ]
     },
     "metadata": {
      "needs_background": "light"
     },
     "output_type": "display_data"
    }
   ],
   "source": [
    "#use the grouped results\n",
    "plt.pcolor(grouped_pivot, cmap='RdBu')\n",
    "plt.colorbar()\n",
    "plt.show()\n",
    "\n"
   ]
  },
  {
   "cell_type": "code",
   "execution_count": 23,
   "id": "a6989e15",
   "metadata": {
    "execution": {
     "iopub.execute_input": "2023-01-23T05:25:21.217902Z",
     "iopub.status.busy": "2023-01-23T05:25:21.217237Z",
     "iopub.status.idle": "2023-01-23T05:25:21.483984Z",
     "shell.execute_reply": "2023-01-23T05:25:21.482555Z"
    },
    "papermill": {
     "duration": 0.290793,
     "end_time": "2023-01-23T05:25:21.486607",
     "exception": false,
     "start_time": "2023-01-23T05:25:21.195814",
     "status": "completed"
    },
    "tags": []
   },
   "outputs": [
    {
     "data": {
      "image/png": "[encoded data removed]",
      "text/plain": [
       "<Figure size 432x288 with 2 Axes>"
      ]
     },
     "metadata": {
      "needs_background": "light"
     },
     "output_type": "display_data"
    }
   ],
   "source": [
    "fig, ax = plt.subplots()\n",
    "im = ax.pcolor(grouped_pivot, cmap='RdBu')\n",
    "\n",
    "#label names\n",
    "row_labels = grouped_pivot.columns.levels[1]\n",
    "col_labels = grouped_pivot.index\n",
    "\n",
    "#move ticks and labels to the center\n",
    "ax.set_xticks(np.arange(grouped_pivot.shape[1]) + 0.5, minor=False)\n",
    "ax.set_yticks(np.arange(grouped_pivot.shape[0]) + 0.5, minor=False)\n",
    "\n",
    "#insert labels\n",
    "ax.set_xticklabels(row_labels, minor=False)\n",
    "ax.set_yticklabels(col_labels, minor=False)\n",
    "\n",
    "#rotate label if too long\n",
    "plt.xticks(rotation=45)\n",
    "plt.yticks(rotation=45)\n",
    "\n",
    "fig.colorbar(im)\n",
    "plt.show()"
   ]
  },
  {
   "cell_type": "code",
   "execution_count": 24,
   "id": "1523e814",
   "metadata": {
    "execution": {
     "iopub.execute_input": "2023-01-23T05:25:21.529227Z",
     "iopub.status.busy": "2023-01-23T05:25:21.527825Z",
     "iopub.status.idle": "2023-01-23T05:25:21.534031Z",
     "shell.execute_reply": "2023-01-23T05:25:21.532873Z"
    },
    "papermill": {
     "duration": 0.031402,
     "end_time": "2023-01-23T05:25:21.537442",
     "exception": false,
     "start_time": "2023-01-23T05:25:21.506040",
     "status": "completed"
    },
    "tags": []
   },
   "outputs": [],
   "source": [
    "from scipy import stats"
   ]
  },
  {
   "cell_type": "code",
   "execution_count": 25,
   "id": "0fe76dac",
   "metadata": {
    "execution": {
     "iopub.execute_input": "2023-01-23T05:25:21.580947Z",
     "iopub.status.busy": "2023-01-23T05:25:21.580386Z",
     "iopub.status.idle": "2023-01-23T05:25:21.993774Z",
     "shell.execute_reply": "2023-01-23T05:25:21.992377Z"
    },
    "papermill": {
     "duration": 0.43869,
     "end_time": "2023-01-23T05:25:21.996914",
     "exception": false,
     "start_time": "2023-01-23T05:25:21.558224",
     "status": "completed"
    },
    "tags": []
   },
   "outputs": [
    {
     "name": "stdout",
     "output_type": "stream",
     "text": [
      "The Pearson Correlation Coefficient is 0.584641822265508  with a P-value of P = 8.076488270733218e-20\n"
     ]
    },
    {
     "data": {
      "text/plain": [
       "<AxesSubplot:xlabel='wheel-base', ylabel='price'>"
      ]
     },
     "execution_count": 25,
     "metadata": {},
     "output_type": "execute_result"
    },
    {
     "data": {
      "image/png": "[encoded data removed]",
      "text/plain": [
       "<Figure size 432x288 with 1 Axes>"
      ]
     },
     "metadata": {
      "needs_background": "light"
     },
     "output_type": "display_data"
    }
   ],
   "source": [
    "pearson_coef, p_value = stats.pearsonr(df['wheel-base'], df['price'])\n",
    "print(\"The Pearson Correlation Coefficient is\", pearson_coef, \" with a P-value of P =\", p_value) \n",
    "\n",
    "sns.regplot(x=df['wheel-base'], y=df['price'])"
   ]
  },
  {
   "cell_type": "code",
   "execution_count": 26,
   "id": "f1dd8734",
   "metadata": {
    "execution": {
     "iopub.execute_input": "2023-01-23T05:25:22.045051Z",
     "iopub.status.busy": "2023-01-23T05:25:22.044413Z",
     "iopub.status.idle": "2023-01-23T05:25:22.060956Z",
     "shell.execute_reply": "2023-01-23T05:25:22.059144Z"
    },
    "papermill": {
     "duration": 0.045918,
     "end_time": "2023-01-23T05:25:22.064543",
     "exception": false,
     "start_time": "2023-01-23T05:25:22.018625",
     "status": "completed"
    },
    "tags": []
   },
   "outputs": [
    {
     "data": {
      "text/html": [
       "<div>\n",
       "<style scoped>\n",
       "    .dataframe tbody tr th:only-of-type {\n",
       "        vertical-align: middle;\n",
       "    }\n",
       "\n",
       "    .dataframe tbody tr th {\n",
       "        vertical-align: top;\n",
       "    }\n",
       "\n",
       "    .dataframe thead th {\n",
       "        text-align: right;\n",
       "    }\n",
       "</style>\n",
       "<table border=\"1\" class=\"dataframe\">\n",
       "  <thead>\n",
       "    <tr style=\"text-align: right;\">\n",
       "      <th></th>\n",
       "      <th>wheel-base</th>\n",
       "      <th>price</th>\n",
       "    </tr>\n",
       "  </thead>\n",
       "  <tbody>\n",
       "    <tr>\n",
       "      <th>wheel-base</th>\n",
       "      <td>1.000000</td>\n",
       "      <td>0.584642</td>\n",
       "    </tr>\n",
       "    <tr>\n",
       "      <th>price</th>\n",
       "      <td>0.584642</td>\n",
       "      <td>1.000000</td>\n",
       "    </tr>\n",
       "  </tbody>\n",
       "</table>\n",
       "</div>"
      ],
      "text/plain": [
       "            wheel-base     price\n",
       "wheel-base    1.000000  0.584642\n",
       "price         0.584642  1.000000"
      ]
     },
     "execution_count": 26,
     "metadata": {},
     "output_type": "execute_result"
    }
   ],
   "source": [
    "df[['wheel-base', 'price']].corr()"
   ]
  },
  {
   "cell_type": "code",
   "execution_count": 27,
   "id": "12b272d7",
   "metadata": {
    "execution": {
     "iopub.execute_input": "2023-01-23T05:25:22.109107Z",
     "iopub.status.busy": "2023-01-23T05:25:22.108503Z",
     "iopub.status.idle": "2023-01-23T05:25:22.135010Z",
     "shell.execute_reply": "2023-01-23T05:25:22.132446Z"
    },
    "papermill": {
     "duration": 0.053251,
     "end_time": "2023-01-23T05:25:22.138859",
     "exception": false,
     "start_time": "2023-01-23T05:25:22.085608",
     "status": "completed"
    },
    "tags": []
   },
   "outputs": [
    {
     "data": {
      "text/html": [
       "<div>\n",
       "<style scoped>\n",
       "    .dataframe tbody tr th:only-of-type {\n",
       "        vertical-align: middle;\n",
       "    }\n",
       "\n",
       "    .dataframe tbody tr th {\n",
       "        vertical-align: top;\n",
       "    }\n",
       "\n",
       "    .dataframe thead th {\n",
       "        text-align: right;\n",
       "    }\n",
       "</style>\n",
       "<table border=\"1\" class=\"dataframe\">\n",
       "  <thead>\n",
       "    <tr style=\"text-align: right;\">\n",
       "      <th></th>\n",
       "      <th>drive-wheels</th>\n",
       "      <th>price</th>\n",
       "    </tr>\n",
       "  </thead>\n",
       "  <tbody>\n",
       "    <tr>\n",
       "      <th>0</th>\n",
       "      <td>rwd</td>\n",
       "      <td>13495.0</td>\n",
       "    </tr>\n",
       "    <tr>\n",
       "      <th>1</th>\n",
       "      <td>rwd</td>\n",
       "      <td>16500.0</td>\n",
       "    </tr>\n",
       "    <tr>\n",
       "      <th>2</th>\n",
       "      <td>rwd</td>\n",
       "      <td>16500.0</td>\n",
       "    </tr>\n",
       "    <tr>\n",
       "      <th>3</th>\n",
       "      <td>fwd</td>\n",
       "      <td>13950.0</td>\n",
       "    </tr>\n",
       "    <tr>\n",
       "      <th>4</th>\n",
       "      <td>4wd</td>\n",
       "      <td>17450.0</td>\n",
       "    </tr>\n",
       "    <tr>\n",
       "      <th>...</th>\n",
       "      <td>...</td>\n",
       "      <td>...</td>\n",
       "    </tr>\n",
       "    <tr>\n",
       "      <th>196</th>\n",
       "      <td>rwd</td>\n",
       "      <td>16845.0</td>\n",
       "    </tr>\n",
       "    <tr>\n",
       "      <th>197</th>\n",
       "      <td>rwd</td>\n",
       "      <td>19045.0</td>\n",
       "    </tr>\n",
       "    <tr>\n",
       "      <th>198</th>\n",
       "      <td>rwd</td>\n",
       "      <td>21485.0</td>\n",
       "    </tr>\n",
       "    <tr>\n",
       "      <th>199</th>\n",
       "      <td>rwd</td>\n",
       "      <td>22470.0</td>\n",
       "    </tr>\n",
       "    <tr>\n",
       "      <th>200</th>\n",
       "      <td>rwd</td>\n",
       "      <td>22625.0</td>\n",
       "    </tr>\n",
       "  </tbody>\n",
       "</table>\n",
       "<p>201 rows × 2 columns</p>\n",
       "</div>"
      ],
      "text/plain": [
       "    drive-wheels    price\n",
       "0            rwd  13495.0\n",
       "1            rwd  16500.0\n",
       "2            rwd  16500.0\n",
       "3            fwd  13950.0\n",
       "4            4wd  17450.0\n",
       "..           ...      ...\n",
       "196          rwd  16845.0\n",
       "197          rwd  19045.0\n",
       "198          rwd  21485.0\n",
       "199          rwd  22470.0\n",
       "200          rwd  22625.0\n",
       "\n",
       "[201 rows x 2 columns]"
      ]
     },
     "execution_count": 27,
     "metadata": {},
     "output_type": "execute_result"
    }
   ],
   "source": [
    "df_gptest[['drive-wheels', 'price']]"
   ]
  },
  {
   "cell_type": "code",
   "execution_count": 28,
   "id": "3add001e",
   "metadata": {
    "execution": {
     "iopub.execute_input": "2023-01-23T05:25:22.182935Z",
     "iopub.status.busy": "2023-01-23T05:25:22.182415Z",
     "iopub.status.idle": "2023-01-23T05:25:22.204577Z",
     "shell.execute_reply": "2023-01-23T05:25:22.202745Z"
    },
    "papermill": {
     "duration": 0.047717,
     "end_time": "2023-01-23T05:25:22.208642",
     "exception": false,
     "start_time": "2023-01-23T05:25:22.160925",
     "status": "completed"
    },
    "tags": []
   },
   "outputs": [
    {
     "data": {
      "text/html": [
       "<div>\n",
       "<style scoped>\n",
       "    .dataframe tbody tr th:only-of-type {\n",
       "        vertical-align: middle;\n",
       "    }\n",
       "\n",
       "    .dataframe tbody tr th {\n",
       "        vertical-align: top;\n",
       "    }\n",
       "\n",
       "    .dataframe thead th {\n",
       "        text-align: right;\n",
       "    }\n",
       "</style>\n",
       "<table border=\"1\" class=\"dataframe\">\n",
       "  <thead>\n",
       "    <tr style=\"text-align: right;\">\n",
       "      <th></th>\n",
       "      <th>drive-wheels</th>\n",
       "      <th>price</th>\n",
       "    </tr>\n",
       "  </thead>\n",
       "  <tbody>\n",
       "    <tr>\n",
       "      <th>0</th>\n",
       "      <td>rwd</td>\n",
       "      <td>13495.0</td>\n",
       "    </tr>\n",
       "    <tr>\n",
       "      <th>1</th>\n",
       "      <td>rwd</td>\n",
       "      <td>16500.0</td>\n",
       "    </tr>\n",
       "    <tr>\n",
       "      <th>2</th>\n",
       "      <td>rwd</td>\n",
       "      <td>16500.0</td>\n",
       "    </tr>\n",
       "    <tr>\n",
       "      <th>3</th>\n",
       "      <td>fwd</td>\n",
       "      <td>13950.0</td>\n",
       "    </tr>\n",
       "    <tr>\n",
       "      <th>4</th>\n",
       "      <td>4wd</td>\n",
       "      <td>17450.0</td>\n",
       "    </tr>\n",
       "    <tr>\n",
       "      <th>5</th>\n",
       "      <td>fwd</td>\n",
       "      <td>15250.0</td>\n",
       "    </tr>\n",
       "    <tr>\n",
       "      <th>6</th>\n",
       "      <td>fwd</td>\n",
       "      <td>17710.0</td>\n",
       "    </tr>\n",
       "    <tr>\n",
       "      <th>7</th>\n",
       "      <td>fwd</td>\n",
       "      <td>18920.0</td>\n",
       "    </tr>\n",
       "    <tr>\n",
       "      <th>8</th>\n",
       "      <td>fwd</td>\n",
       "      <td>23875.0</td>\n",
       "    </tr>\n",
       "    <tr>\n",
       "      <th>9</th>\n",
       "      <td>rwd</td>\n",
       "      <td>16430.0</td>\n",
       "    </tr>\n",
       "    <tr>\n",
       "      <th>10</th>\n",
       "      <td>rwd</td>\n",
       "      <td>16925.0</td>\n",
       "    </tr>\n",
       "    <tr>\n",
       "      <th>136</th>\n",
       "      <td>4wd</td>\n",
       "      <td>7603.0</td>\n",
       "    </tr>\n",
       "    <tr>\n",
       "      <th>140</th>\n",
       "      <td>4wd</td>\n",
       "      <td>9233.0</td>\n",
       "    </tr>\n",
       "    <tr>\n",
       "      <th>141</th>\n",
       "      <td>4wd</td>\n",
       "      <td>11259.0</td>\n",
       "    </tr>\n",
       "    <tr>\n",
       "      <th>144</th>\n",
       "      <td>4wd</td>\n",
       "      <td>8013.0</td>\n",
       "    </tr>\n",
       "  </tbody>\n",
       "</table>\n",
       "</div>"
      ],
      "text/plain": [
       "    drive-wheels    price\n",
       "0            rwd  13495.0\n",
       "1            rwd  16500.0\n",
       "2            rwd  16500.0\n",
       "3            fwd  13950.0\n",
       "4            4wd  17450.0\n",
       "5            fwd  15250.0\n",
       "6            fwd  17710.0\n",
       "7            fwd  18920.0\n",
       "8            fwd  23875.0\n",
       "9            rwd  16430.0\n",
       "10           rwd  16925.0\n",
       "136          4wd   7603.0\n",
       "140          4wd   9233.0\n",
       "141          4wd  11259.0\n",
       "144          4wd   8013.0"
      ]
     },
     "execution_count": 28,
     "metadata": {},
     "output_type": "execute_result"
    }
   ],
   "source": [
    "grouped_test2=df_gptest[['drive-wheels', 'price']].groupby(['drive-wheels'])\n",
    "grouped_test2.head(  )"
   ]
  },
  {
   "cell_type": "markdown",
   "id": "6ae9d606",
   "metadata": {
    "papermill": {
     "duration": 0.02145,
     "end_time": "2023-01-23T05:25:22.249926",
     "exception": false,
     "start_time": "2023-01-23T05:25:22.228476",
     "status": "completed"
    },
    "tags": []
   },
   "source": [
    "## One-way ANOVA\n",
    "\n",
    "[A one-way ANOVA](https://youtu.be/9cnSWads6oo) or Analysis of Variance for a dataset measure two things:\n",
    "1. F-test score: How the means within groups relate to to the overall mean and,\n",
    "> **Intuition:** A higher f-score indicates that grouping of one ariable (the drive-wheels into fwd, rwd. 4wd) has a strong correlaton with the other variable (price)\n",
    "\n",
    "2. P-value: How statistically significant our f-test score value is\n",
    "> **Intuition:** A lower p-value indicates how stistically significant the f-test score is (or how less of an overlap each of the groups have. zVisually speaking, it would mean the groups are packed tighter and in a clearly demarcated manner.\n",
    "\n"
   ]
  },
  {
   "cell_type": "code",
   "execution_count": 29,
   "id": "fbe457af",
   "metadata": {
    "execution": {
     "iopub.execute_input": "2023-01-23T05:25:22.296012Z",
     "iopub.status.busy": "2023-01-23T05:25:22.294109Z",
     "iopub.status.idle": "2023-01-23T05:25:22.306618Z",
     "shell.execute_reply": "2023-01-23T05:25:22.304570Z"
    },
    "papermill": {
     "duration": 0.038062,
     "end_time": "2023-01-23T05:25:22.309677",
     "exception": false,
     "start_time": "2023-01-23T05:25:22.271615",
     "status": "completed"
    },
    "tags": []
   },
   "outputs": [
    {
     "name": "stdout",
     "output_type": "stream",
     "text": [
      "The f-test score for this grouping is 67.95406500780399 and the p-value for this score is 3.3945443577151245e-23\n"
     ]
    }
   ],
   "source": [
    "f_val, p_val = stats.f_oneway(grouped_test2.get_group('4wd')['price'], grouped_test2.get_group('fwd')['price'], grouped_test2.get_group('rwd')['price'])\n",
    "\n",
    "\n",
    "print(\"The f-test score for this grouping is\",f_val ,\"and the p-value for this score is\", p_val)\n"
   ]
  },
  {
   "cell_type": "markdown",
   "id": "2999a641",
   "metadata": {
    "papermill": {
     "duration": 0.02088,
     "end_time": "2023-01-23T05:25:22.353835",
     "exception": false,
     "start_time": "2023-01-23T05:25:22.332955",
     "status": "completed"
    },
    "tags": []
   },
   "source": [
    "> A higher F-score and a low p-value indicates that the grouping has a strong relationship with the price-variable. The low p-value indicates the statistical significance is quite strong, and infact here, sufficient enough a condition to reject the null-hypothesis (p<<<0.05)."
   ]
  },
  {
   "cell_type": "code",
   "execution_count": null,
   "id": "88f6ec54",
   "metadata": {
    "papermill": {
     "duration": 0.021636,
     "end_time": "2023-01-23T05:25:22.394798",
     "exception": false,
     "start_time": "2023-01-23T05:25:22.373162",
     "status": "completed"
    },
    "tags": []
   },
   "outputs": [],
   "source": []
  },
  {
   "cell_type": "markdown",
   "id": "4cb17487",
   "metadata": {
    "papermill": {
     "duration": 0.01882,
     "end_time": "2023-01-23T05:25:22.434933",
     "exception": false,
     "start_time": "2023-01-23T05:25:22.416113",
     "status": "completed"
    },
    "tags": []
   },
   "source": [
    "# E. Inferences\n",
    "\n",
    "We will now explore the previously drawn inferences and check against our hypotheses.\n",
    "\n",
    "\n"
   ]
  },
  {
   "cell_type": "markdown",
   "id": "8b914699",
   "metadata": {
    "papermill": {
     "duration": 0.019001,
     "end_time": "2023-01-23T05:25:22.475571",
     "exception": false,
     "start_time": "2023-01-23T05:25:22.456570",
     "status": "completed"
    },
    "tags": []
   },
   "source": [
    "# F. Conclusions"
   ]
  }
 ],
 "metadata": {
  "kernelspec": {
   "display_name": "Python 3",
   "language": "python",
   "name": "python3"
  },
  "language_info": {
   "codemirror_mode": {
    "name": "ipython",
    "version": 3
   },
   "file_extension": ".py",
   "mimetype": "text/x-python",
   "name": "python",
   "nbconvert_exporter": "python",
   "pygments_lexer": "ipython3",
   "version": "3.7.12"
  },
  "papermill": {
   "default_parameters": {},
   "duration": 85.587632,
   "end_time": "2023-01-23T05:25:23.721916",
   "environment_variables": {},
   "exception": null,
   "input_path": "__notebook__.ipynb",
   "output_path": "__notebook__.ipynb",
   "parameters": {},
   "start_time": "2023-01-23T05:23:58.134284",
   "version": "2.3.4"
  }
 },
 "nbformat": 4,
 "nbformat_minor": 5
}
